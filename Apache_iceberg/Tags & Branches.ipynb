{
 "cells": [
  {
   "cell_type": "code",
   "execution_count": 1,
   "id": "e3316024",
   "metadata": {},
   "outputs": [],
   "source": [
    "import os\n",
    "\n",
    "# import pyspark\n",
    "import pyspark\n",
    "from pyspark.sql import SparkSession"
   ]
  },
  {
   "cell_type": "code",
   "execution_count": 2,
   "id": "5843b1c0",
   "metadata": {},
   "outputs": [],
   "source": [
    "conf = (\n",
    "    pyspark.SparkConf()\n",
    "        .setAppName('app_name')\n",
    "  \t\t#packages\n",
    "        .set('spark.jars.packages', 'org.apache.iceberg:iceberg-spark-runtime-3.4_2.12:1.3.1,software.amazon.awssdk:bundle:2.17.178,software.amazon.awssdk:url-connection-client:2.17.178')\n",
    "  \t\t#SQL Extensions\n",
    "        .set('spark.sql.extensions', 'org.apache.iceberg.spark.extensions.IcebergSparkSessionExtensions')\n",
    "  \t\t#Configuring Catalog\n",
    "        .set('spark.sql.catalog.spark_catalog','org.apache.iceberg.spark.SparkSessionCatalog')\n",
    "        .set('spark.sql.catalog.spark_catalog.type','hive')\n",
    "        .set('spark.sql.catalog.iceberg', 'org.apache.iceberg.spark.SparkCatalog')\n",
    "        .set('spark.sql.catalog.iceberg.type', 'hadoop')\n",
    "        .set('spark.sql.catalog.iceberg.warehouse', 'iceberg-warehouse')\n",
    ")"
   ]
  },
  {
   "cell_type": "code",
   "execution_count": 3,
   "id": "334c3b67",
   "metadata": {},
   "outputs": [
    {
     "name": "stdout",
     "output_type": "stream",
     "text": [
      ":: loading settings :: url = jar:file:/opt/anaconda3/lib/python3.9/site-packages/pyspark/jars/ivy-2.5.1.jar!/org/apache/ivy/core/settings/ivysettings.xml\n"
     ]
    },
    {
     "name": "stderr",
     "output_type": "stream",
     "text": [
      "Ivy Default Cache set to: /Users/anshumanr/.ivy2/cache\n",
      "The jars for the packages stored in: /Users/anshumanr/.ivy2/jars\n",
      "org.apache.iceberg#iceberg-spark-runtime-3.4_2.12 added as a dependency\n",
      "software.amazon.awssdk#bundle added as a dependency\n",
      "software.amazon.awssdk#url-connection-client added as a dependency\n",
      ":: resolving dependencies :: org.apache.spark#spark-submit-parent-2f5a7637-0acf-440f-977f-49f992afc86b;1.0\n",
      "\tconfs: [default]\n",
      "\tfound org.apache.iceberg#iceberg-spark-runtime-3.4_2.12;1.3.1 in central\n",
      "\tfound software.amazon.awssdk#bundle;2.17.178 in central\n",
      "\tfound software.amazon.eventstream#eventstream;1.0.1 in central\n",
      "\tfound software.amazon.awssdk#url-connection-client;2.17.178 in central\n",
      "\tfound software.amazon.awssdk#utils;2.17.178 in central\n",
      "\tfound org.reactivestreams#reactive-streams;1.0.3 in central\n",
      "\tfound software.amazon.awssdk#annotations;2.17.178 in central\n",
      "\tfound org.slf4j#slf4j-api;1.7.30 in local-m2-cache\n",
      "\tfound software.amazon.awssdk#http-client-spi;2.17.178 in central\n",
      "\tfound software.amazon.awssdk#metrics-spi;2.17.178 in central\n",
      ":: resolution report :: resolve 838ms :: artifacts dl 75ms\n",
      "\t:: modules in use:\n",
      "\torg.apache.iceberg#iceberg-spark-runtime-3.4_2.12;1.3.1 from central in [default]\n",
      "\torg.reactivestreams#reactive-streams;1.0.3 from central in [default]\n",
      "\torg.slf4j#slf4j-api;1.7.30 from local-m2-cache in [default]\n",
      "\tsoftware.amazon.awssdk#annotations;2.17.178 from central in [default]\n",
      "\tsoftware.amazon.awssdk#bundle;2.17.178 from central in [default]\n",
      "\tsoftware.amazon.awssdk#http-client-spi;2.17.178 from central in [default]\n",
      "\tsoftware.amazon.awssdk#metrics-spi;2.17.178 from central in [default]\n",
      "\tsoftware.amazon.awssdk#url-connection-client;2.17.178 from central in [default]\n",
      "\tsoftware.amazon.awssdk#utils;2.17.178 from central in [default]\n",
      "\tsoftware.amazon.eventstream#eventstream;1.0.1 from central in [default]\n",
      "\t---------------------------------------------------------------------\n",
      "\t|                  |            modules            ||   artifacts   |\n",
      "\t|       conf       | number| search|dwnlded|evicted|| number|dwnlded|\n",
      "\t---------------------------------------------------------------------\n",
      "\t|      default     |   10  |   0   |   0   |   0   ||   10  |   0   |\n",
      "\t---------------------------------------------------------------------\n",
      ":: retrieving :: org.apache.spark#spark-submit-parent-2f5a7637-0acf-440f-977f-49f992afc86b\n",
      "\tconfs: [default]\n",
      "\t0 artifacts copied, 10 already retrieved (0kB/19ms)\n",
      "23/08/21 19:26:00 WARN NativeCodeLoader: Unable to load native-hadoop library for your platform... using builtin-java classes where applicable\n",
      "Setting default log level to \"WARN\".\n",
      "To adjust logging level use sc.setLogLevel(newLevel). For SparkR, use setLogLevel(newLevel).\n"
     ]
    },
    {
     "name": "stdout",
     "output_type": "stream",
     "text": [
      "Spark Running\n"
     ]
    }
   ],
   "source": [
    "## Start Spark Session\n",
    "spark = SparkSession.builder.config(conf=conf).getOrCreate()\n",
    "print(\"Spark Running\")"
   ]
  },
  {
   "cell_type": "code",
   "execution_count": 4,
   "id": "a7f66464",
   "metadata": {},
   "outputs": [
    {
     "data": {
      "text/plain": [
       "DataFrame[]"
      ]
     },
     "execution_count": 4,
     "metadata": {},
     "output_type": "execute_result"
    }
   ],
   "source": [
    "spark.sql(\"Create table iceberg.db.Events(id int,name string,artist string,entry_price int,city string) using iceberg partitioned by (artist)\")"
   ]
  },
  {
   "cell_type": "code",
   "execution_count": 5,
   "id": "bbaee089",
   "metadata": {},
   "outputs": [
    {
     "name": "stderr",
     "output_type": "stream",
     "text": [
      "\r",
      "[Stage 0:>                                                          (0 + 1) / 1]\r",
      "\r",
      "                                                                                \r"
     ]
    }
   ],
   "source": [
    "df = spark.read.format(\"csv\").options(inferSchema='True',header='True',delimiter=',').load(\"/Users/anshumanr/Documents/Iceberg/dataset/event.csv\")"
   ]
  },
  {
   "cell_type": "code",
   "execution_count": 6,
   "id": "32394dbe",
   "metadata": {},
   "outputs": [
    {
     "name": "stderr",
     "output_type": "stream",
     "text": [
      "                                                                                \r"
     ]
    }
   ],
   "source": [
    "df.write.mode('append').saveAsTable(\"iceberg.db.Events\")"
   ]
  },
  {
   "cell_type": "code",
   "execution_count": 7,
   "id": "d61f7299",
   "metadata": {},
   "outputs": [
    {
     "name": "stdout",
     "output_type": "stream",
     "text": [
      "+---+--------------------+-------------+-----------+--------------+\n",
      "| id|                name|       artist|entry_price|          city|\n",
      "+---+--------------------+-------------+-----------+--------------+\n",
      "|  1|Summer Music Fest...|Ariana Grande|        100|   Los Angeles|\n",
      "| 11|Summer Music Fest...|Ariana Grande|        100|         Paris|\n",
      "| 21|Summer Music Fest...|Ariana Grande|        100|         Tokyo|\n",
      "|  8|       Reggae Nights|   Bob Marley|         60|      Kingston|\n",
      "| 18|       Reggae Nights|   Bob Marley|         60|   Montego Bay|\n",
      "| 28|       Reggae Nights|   Bob Marley|         60|     Ocho Rios|\n",
      "|  4|          EDM Nights|Calvin Harris|        120|     Las Vegas|\n",
      "| 14|          EDM Nights|Calvin Harris|        120|         Miami|\n",
      "| 24|          EDM Nights|Calvin Harris|        120|   New Orleans|\n",
      "|  6|    Hip Hop Showcase|        Drake|        110|       Toronto|\n",
      "| 16|    Hip Hop Showcase|        Drake|        110|       Atlanta|\n",
      "| 26|    Hip Hop Showcase|        Drake|        110|       Houston|\n",
      "|  3|    Rock in the Park|    Green Day|         70|       Chicago|\n",
      "| 13|    Rock in the Park|    Green Day|         70|       Seattle|\n",
      "| 23|    Rock in the Park|    Green Day|         70| San Francisco|\n",
      "|  2|   Winter Jazz Night|  John Legend|         80|      New York|\n",
      "| 12|   Winter Jazz Night|  John Legend|         80|        London|\n",
      "| 22|   Winter Jazz Night|  John Legend|         80|        Berlin|\n",
      "|  5|  Country Music Fest|   Luke Bryan|         90|     Nashville|\n",
      "| 15|  Country Music Fest|   Luke Bryan|         90|        Austin|\n",
      "| 25|  Country Music Fest|   Luke Bryan|         90|        Dallas|\n",
      "| 10|  Latin Dance Fiesta|      Shakira|         95|     Barcelona|\n",
      "| 20|  Latin Dance Fiesta|      Shakira|         95|Rio de Janeiro|\n",
      "| 30|  Latin Dance Fiesta|      Shakira|         95|   Mexico City|\n",
      "|  9|    Indie Music Fest|  Tame Impala|         85|     Melbourne|\n",
      "| 19|    Indie Music Fest|  Tame Impala|         85|        Sydney|\n",
      "| 29|    Indie Music Fest|  Tame Impala|         85|         Perth|\n",
      "|  7|   Classical Concert|     Yo-Yo Ma|         75|        Boston|\n",
      "| 17|   Classical Concert|     Yo-Yo Ma|         75|    Washington|\n",
      "| 27|   Classical Concert|     Yo-Yo Ma|         75|       Chicago|\n",
      "+---+--------------------+-------------+-----------+--------------+\n",
      "\n"
     ]
    }
   ],
   "source": [
    "spark.sql(\"Select * from iceberg.db.Events\").show(50)"
   ]
  },
  {
   "cell_type": "markdown",
   "id": "c01f17a6",
   "metadata": {},
   "source": [
    "# Tags"
   ]
  },
  {
   "cell_type": "code",
   "execution_count": 8,
   "id": "37b6f310",
   "metadata": {},
   "outputs": [
    {
     "name": "stdout",
     "output_type": "stream",
     "text": [
      "+--------------------+-------------------+---------+---------+--------------------+--------------------+\n",
      "|        committed_at|        snapshot_id|parent_id|operation|       manifest_list|             summary|\n",
      "+--------------------+-------------------+---------+---------+--------------------+--------------------+\n",
      "|2023-08-21 19:26:...|8811495956220048118|     null|   append|iceberg-warehouse...|{spark.app.id -> ...|\n",
      "+--------------------+-------------------+---------+---------+--------------------+--------------------+\n",
      "\n"
     ]
    }
   ],
   "source": [
    "spark.sql(\"select * from iceberg.db.Events.snapshots\").show()"
   ]
  },
  {
   "cell_type": "code",
   "execution_count": 9,
   "id": "abe70e62",
   "metadata": {},
   "outputs": [
    {
     "name": "stderr",
     "output_type": "stream",
     "text": [
      "ANTLR Tool version 4.8 used for code generation does not match the current runtime version 4.9.3\n",
      "ANTLR Tool version 4.8 used for code generation does not match the current runtime version 4.9.3\n",
      "23/08/21 19:26:22 WARN BaseTransaction: Failed to load metadata for a committed snapshot, skipping clean-up\n"
     ]
    },
    {
     "data": {
      "text/plain": [
       "DataFrame[]"
      ]
     },
     "execution_count": 9,
     "metadata": {},
     "output_type": "execute_result"
    }
   ],
   "source": [
    "spark.sql(\"ALTER TABLE iceberg.db.Events CREATE TAG tag1_21Aug\")"
   ]
  },
  {
   "cell_type": "code",
   "execution_count": 10,
   "id": "a0ed6bde",
   "metadata": {},
   "outputs": [
    {
     "data": {
      "text/plain": [
       "DataFrame[]"
      ]
     },
     "execution_count": 10,
     "metadata": {},
     "output_type": "execute_result"
    }
   ],
   "source": [
    "spark.sql(\"insert into iceberg.db.Events values(31,'MoonLight Concert','Weekend',200,'Cupertino'),(32,'MoonLight Concert','Weekend',200,'Bay Area')\")"
   ]
  },
  {
   "cell_type": "code",
   "execution_count": 11,
   "id": "61ab2390",
   "metadata": {},
   "outputs": [
    {
     "name": "stdout",
     "output_type": "stream",
     "text": [
      "+---+--------------------+-------------+-----------+--------------+\n",
      "| id|                name|       artist|entry_price|          city|\n",
      "+---+--------------------+-------------+-----------+--------------+\n",
      "|  1|Summer Music Fest...|Ariana Grande|        100|   Los Angeles|\n",
      "| 11|Summer Music Fest...|Ariana Grande|        100|         Paris|\n",
      "| 21|Summer Music Fest...|Ariana Grande|        100|         Tokyo|\n",
      "| 31|   MoonLight Concert|      Weekend|        200|     Cupertino|\n",
      "| 32|   MoonLight Concert|      Weekend|        200|      Bay Area|\n",
      "|  8|       Reggae Nights|   Bob Marley|         60|      Kingston|\n",
      "| 18|       Reggae Nights|   Bob Marley|         60|   Montego Bay|\n",
      "| 28|       Reggae Nights|   Bob Marley|         60|     Ocho Rios|\n",
      "|  4|          EDM Nights|Calvin Harris|        120|     Las Vegas|\n",
      "| 14|          EDM Nights|Calvin Harris|        120|         Miami|\n",
      "| 24|          EDM Nights|Calvin Harris|        120|   New Orleans|\n",
      "|  6|    Hip Hop Showcase|        Drake|        110|       Toronto|\n",
      "| 16|    Hip Hop Showcase|        Drake|        110|       Atlanta|\n",
      "| 26|    Hip Hop Showcase|        Drake|        110|       Houston|\n",
      "|  3|    Rock in the Park|    Green Day|         70|       Chicago|\n",
      "| 13|    Rock in the Park|    Green Day|         70|       Seattle|\n",
      "| 23|    Rock in the Park|    Green Day|         70| San Francisco|\n",
      "|  2|   Winter Jazz Night|  John Legend|         80|      New York|\n",
      "| 12|   Winter Jazz Night|  John Legend|         80|        London|\n",
      "| 22|   Winter Jazz Night|  John Legend|         80|        Berlin|\n",
      "|  5|  Country Music Fest|   Luke Bryan|         90|     Nashville|\n",
      "| 15|  Country Music Fest|   Luke Bryan|         90|        Austin|\n",
      "| 25|  Country Music Fest|   Luke Bryan|         90|        Dallas|\n",
      "| 10|  Latin Dance Fiesta|      Shakira|         95|     Barcelona|\n",
      "| 20|  Latin Dance Fiesta|      Shakira|         95|Rio de Janeiro|\n",
      "| 30|  Latin Dance Fiesta|      Shakira|         95|   Mexico City|\n",
      "|  9|    Indie Music Fest|  Tame Impala|         85|     Melbourne|\n",
      "| 19|    Indie Music Fest|  Tame Impala|         85|        Sydney|\n",
      "| 29|    Indie Music Fest|  Tame Impala|         85|         Perth|\n",
      "|  7|   Classical Concert|     Yo-Yo Ma|         75|        Boston|\n",
      "| 17|   Classical Concert|     Yo-Yo Ma|         75|    Washington|\n",
      "| 27|   Classical Concert|     Yo-Yo Ma|         75|       Chicago|\n",
      "+---+--------------------+-------------+-----------+--------------+\n",
      "\n"
     ]
    }
   ],
   "source": [
    "spark.sql(\"Select * from iceberg.db.Events\").show(50)"
   ]
  },
  {
   "cell_type": "code",
   "execution_count": 12,
   "id": "0f5f6a14",
   "metadata": {},
   "outputs": [
    {
     "name": "stdout",
     "output_type": "stream",
     "text": [
      "+--------------------+-------------------+-------------------+---------+--------------------+--------------------+\n",
      "|        committed_at|        snapshot_id|          parent_id|operation|       manifest_list|             summary|\n",
      "+--------------------+-------------------+-------------------+---------+--------------------+--------------------+\n",
      "|2023-08-21 19:26:...|8811495956220048118|               null|   append|iceberg-warehouse...|{spark.app.id -> ...|\n",
      "|2023-08-21 19:26:...|3025969424887905520|8811495956220048118|   append|iceberg-warehouse...|{spark.app.id -> ...|\n",
      "+--------------------+-------------------+-------------------+---------+--------------------+--------------------+\n",
      "\n"
     ]
    }
   ],
   "source": [
    "spark.sql(\"select * from iceberg.db.Events.snapshots\").show()"
   ]
  },
  {
   "cell_type": "code",
   "execution_count": 13,
   "id": "aacfc975",
   "metadata": {
    "scrolled": true
   },
   "outputs": [
    {
     "name": "stdout",
     "output_type": "stream",
     "text": [
      "+---+--------------------+-------------+-----------+--------------+\n",
      "| id|                name|       artist|entry_price|          city|\n",
      "+---+--------------------+-------------+-----------+--------------+\n",
      "|  1|Summer Music Fest...|Ariana Grande|        100|   Los Angeles|\n",
      "| 11|Summer Music Fest...|Ariana Grande|        100|         Paris|\n",
      "| 21|Summer Music Fest...|Ariana Grande|        100|         Tokyo|\n",
      "|  8|       Reggae Nights|   Bob Marley|         60|      Kingston|\n",
      "| 18|       Reggae Nights|   Bob Marley|         60|   Montego Bay|\n",
      "| 28|       Reggae Nights|   Bob Marley|         60|     Ocho Rios|\n",
      "|  4|          EDM Nights|Calvin Harris|        120|     Las Vegas|\n",
      "| 14|          EDM Nights|Calvin Harris|        120|         Miami|\n",
      "| 24|          EDM Nights|Calvin Harris|        120|   New Orleans|\n",
      "|  6|    Hip Hop Showcase|        Drake|        110|       Toronto|\n",
      "| 16|    Hip Hop Showcase|        Drake|        110|       Atlanta|\n",
      "| 26|    Hip Hop Showcase|        Drake|        110|       Houston|\n",
      "|  3|    Rock in the Park|    Green Day|         70|       Chicago|\n",
      "| 13|    Rock in the Park|    Green Day|         70|       Seattle|\n",
      "| 23|    Rock in the Park|    Green Day|         70| San Francisco|\n",
      "|  2|   Winter Jazz Night|  John Legend|         80|      New York|\n",
      "| 12|   Winter Jazz Night|  John Legend|         80|        London|\n",
      "| 22|   Winter Jazz Night|  John Legend|         80|        Berlin|\n",
      "|  5|  Country Music Fest|   Luke Bryan|         90|     Nashville|\n",
      "| 15|  Country Music Fest|   Luke Bryan|         90|        Austin|\n",
      "| 25|  Country Music Fest|   Luke Bryan|         90|        Dallas|\n",
      "| 10|  Latin Dance Fiesta|      Shakira|         95|     Barcelona|\n",
      "| 20|  Latin Dance Fiesta|      Shakira|         95|Rio de Janeiro|\n",
      "| 30|  Latin Dance Fiesta|      Shakira|         95|   Mexico City|\n",
      "|  9|    Indie Music Fest|  Tame Impala|         85|     Melbourne|\n",
      "| 19|    Indie Music Fest|  Tame Impala|         85|        Sydney|\n",
      "| 29|    Indie Music Fest|  Tame Impala|         85|         Perth|\n",
      "|  7|   Classical Concert|     Yo-Yo Ma|         75|        Boston|\n",
      "| 17|   Classical Concert|     Yo-Yo Ma|         75|    Washington|\n",
      "| 27|   Classical Concert|     Yo-Yo Ma|         75|       Chicago|\n",
      "+---+--------------------+-------------+-----------+--------------+\n",
      "\n"
     ]
    }
   ],
   "source": [
    "spark.sql(\"select * from iceberg.db.Events VERSION AS OF 'tag1_21Aug' \").show(50)"
   ]
  },
  {
   "cell_type": "markdown",
   "id": "4a4782e3",
   "metadata": {},
   "source": [
    "# Branches"
   ]
  },
  {
   "cell_type": "code",
   "execution_count": 14,
   "id": "e5365b0c",
   "metadata": {},
   "outputs": [
    {
     "name": "stderr",
     "output_type": "stream",
     "text": [
      "23/08/21 19:26:45 WARN BaseTransaction: Failed to load metadata for a committed snapshot, skipping clean-up\n"
     ]
    },
    {
     "data": {
      "text/plain": [
       "DataFrame[]"
      ]
     },
     "execution_count": 14,
     "metadata": {},
     "output_type": "execute_result"
    }
   ],
   "source": [
    "spark.sql(\"ALTER TABLE iceberg.db.Events CREATE BRANCH B1\")"
   ]
  },
  {
   "cell_type": "code",
   "execution_count": 15,
   "id": "5d178231",
   "metadata": {},
   "outputs": [
    {
     "name": "stdout",
     "output_type": "stream",
     "text": [
      "+----------+------+-------------------+-----------------------+---------------------+----------------------+\n",
      "|      name|  type|        snapshot_id|max_reference_age_in_ms|min_snapshots_to_keep|max_snapshot_age_in_ms|\n",
      "+----------+------+-------------------+-----------------------+---------------------+----------------------+\n",
      "|      main|BRANCH|3025969424887905520|                   null|                 null|                  null|\n",
      "|tag1_21Aug|   TAG|8811495956220048118|                   null|                 null|                  null|\n",
      "|        B1|BRANCH|3025969424887905520|                   null|                 null|                  null|\n",
      "+----------+------+-------------------+-----------------------+---------------------+----------------------+\n",
      "\n"
     ]
    }
   ],
   "source": [
    "spark.sql(\"SELECT * FROM iceberg.db.Events.refs\").show()"
   ]
  },
  {
   "cell_type": "code",
   "execution_count": 16,
   "id": "0f8e5c7a",
   "metadata": {},
   "outputs": [],
   "source": [
    "schema = spark.table(\"iceberg.db.Events\").schema\n",
    "data = [\n",
    "    (33, \"DayLight Show\", \"Dua Lipa\",100,'Kanses'),\n",
    "    (33, \"DayLight Show\", \"Sean Paul\",120,'New Jersey'),\n",
    "    (8, \"Beach Party\",\"DJ Snake\", 220,\"Santa Monica\")\n",
    "  ]\n",
    "df = spark.createDataFrame(data, schema)"
   ]
  },
  {
   "cell_type": "code",
   "execution_count": 17,
   "id": "254de24d",
   "metadata": {},
   "outputs": [
    {
     "name": "stderr",
     "output_type": "stream",
     "text": [
      "                                                                                \r"
     ]
    }
   ],
   "source": [
    "df.write.format(\"iceberg\").option(\"branch\",\"B1\").mode(\"overwrite\").save(\"iceberg.db.Events\")"
   ]
  },
  {
   "cell_type": "code",
   "execution_count": 18,
   "id": "4b3ffa5a",
   "metadata": {},
   "outputs": [
    {
     "name": "stdout",
     "output_type": "stream",
     "text": [
      "+----------+------+-------------------+-----------------------+---------------------+----------------------+\n",
      "|      name|  type|        snapshot_id|max_reference_age_in_ms|min_snapshots_to_keep|max_snapshot_age_in_ms|\n",
      "+----------+------+-------------------+-----------------------+---------------------+----------------------+\n",
      "|      main|BRANCH|3025969424887905520|                   null|                 null|                  null|\n",
      "|tag1_21Aug|   TAG|8811495956220048118|                   null|                 null|                  null|\n",
      "|        B1|BRANCH|8277665623436286469|                   null|                 null|                  null|\n",
      "+----------+------+-------------------+-----------------------+---------------------+----------------------+\n",
      "\n"
     ]
    }
   ],
   "source": [
    "spark.sql(\"SELECT * FROM iceberg.db.Events.refs\").show()"
   ]
  },
  {
   "cell_type": "code",
   "execution_count": 20,
   "id": "7ac27067",
   "metadata": {},
   "outputs": [
    {
     "name": "stdout",
     "output_type": "stream",
     "text": [
      "+---+-------------+---------+-----------+------------+\n",
      "| id|         name|   artist|entry_price|        city|\n",
      "+---+-------------+---------+-----------+------------+\n",
      "|  8|  Beach Party| DJ Snake|        220|Santa Monica|\n",
      "| 33|DayLight Show| Dua Lipa|        100|      Kanses|\n",
      "| 33|DayLight Show|Sean Paul|        120|  New Jersey|\n",
      "+---+-------------+---------+-----------+------------+\n",
      "\n"
     ]
    }
   ],
   "source": [
    "spark.sql(\"select * from iceberg.db.Events version as of 'B1' \").show()"
   ]
  },
  {
   "cell_type": "code",
   "execution_count": 21,
   "id": "69046e0a",
   "metadata": {},
   "outputs": [
    {
     "name": "stdout",
     "output_type": "stream",
     "text": [
      "+---+--------------------+-------------+-----------+--------------+\n",
      "| id|                name|       artist|entry_price|          city|\n",
      "+---+--------------------+-------------+-----------+--------------+\n",
      "|  1|Summer Music Fest...|Ariana Grande|        100|   Los Angeles|\n",
      "| 11|Summer Music Fest...|Ariana Grande|        100|         Paris|\n",
      "| 21|Summer Music Fest...|Ariana Grande|        100|         Tokyo|\n",
      "| 31|   MoonLight Concert|      Weekend|        200|     Cupertino|\n",
      "| 32|   MoonLight Concert|      Weekend|        200|      Bay Area|\n",
      "|  8|       Reggae Nights|   Bob Marley|         60|      Kingston|\n",
      "| 18|       Reggae Nights|   Bob Marley|         60|   Montego Bay|\n",
      "| 28|       Reggae Nights|   Bob Marley|         60|     Ocho Rios|\n",
      "|  4|          EDM Nights|Calvin Harris|        120|     Las Vegas|\n",
      "| 14|          EDM Nights|Calvin Harris|        120|         Miami|\n",
      "| 24|          EDM Nights|Calvin Harris|        120|   New Orleans|\n",
      "|  6|    Hip Hop Showcase|        Drake|        110|       Toronto|\n",
      "| 16|    Hip Hop Showcase|        Drake|        110|       Atlanta|\n",
      "| 26|    Hip Hop Showcase|        Drake|        110|       Houston|\n",
      "|  3|    Rock in the Park|    Green Day|         70|       Chicago|\n",
      "| 13|    Rock in the Park|    Green Day|         70|       Seattle|\n",
      "| 23|    Rock in the Park|    Green Day|         70| San Francisco|\n",
      "|  2|   Winter Jazz Night|  John Legend|         80|      New York|\n",
      "| 12|   Winter Jazz Night|  John Legend|         80|        London|\n",
      "| 22|   Winter Jazz Night|  John Legend|         80|        Berlin|\n",
      "|  5|  Country Music Fest|   Luke Bryan|         90|     Nashville|\n",
      "| 15|  Country Music Fest|   Luke Bryan|         90|        Austin|\n",
      "| 25|  Country Music Fest|   Luke Bryan|         90|        Dallas|\n",
      "| 10|  Latin Dance Fiesta|      Shakira|         95|     Barcelona|\n",
      "| 20|  Latin Dance Fiesta|      Shakira|         95|Rio de Janeiro|\n",
      "| 30|  Latin Dance Fiesta|      Shakira|         95|   Mexico City|\n",
      "|  9|    Indie Music Fest|  Tame Impala|         85|     Melbourne|\n",
      "| 19|    Indie Music Fest|  Tame Impala|         85|        Sydney|\n",
      "| 29|    Indie Music Fest|  Tame Impala|         85|         Perth|\n",
      "|  7|   Classical Concert|     Yo-Yo Ma|         75|        Boston|\n",
      "| 17|   Classical Concert|     Yo-Yo Ma|         75|    Washington|\n",
      "| 27|   Classical Concert|     Yo-Yo Ma|         75|       Chicago|\n",
      "+---+--------------------+-------------+-----------+--------------+\n",
      "\n"
     ]
    }
   ],
   "source": [
    "spark.sql(\"select * from iceberg.db.Events\").show(50)"
   ]
  },
  {
   "cell_type": "code",
   "execution_count": null,
   "id": "fc060584",
   "metadata": {},
   "outputs": [],
   "source": []
  }
 ],
 "metadata": {
  "kernelspec": {
   "display_name": "Python 3 (ipykernel)",
   "language": "python",
   "name": "python3"
  },
  "language_info": {
   "codemirror_mode": {
    "name": "ipython",
    "version": 3
   },
   "file_extension": ".py",
   "mimetype": "text/x-python",
   "name": "python",
   "nbconvert_exporter": "python",
   "pygments_lexer": "ipython3",
   "version": "3.9.16"
  }
 },
 "nbformat": 4,
 "nbformat_minor": 5
}
