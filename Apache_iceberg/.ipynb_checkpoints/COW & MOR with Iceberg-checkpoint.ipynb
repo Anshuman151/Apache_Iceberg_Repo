{
 "cells": [
  {
   "cell_type": "code",
   "execution_count": 1,
   "id": "4ca7d851",
   "metadata": {},
   "outputs": [],
   "source": [
    "import os\n",
    "\n",
    "## import pyspark\n",
    "import pyspark\n",
    "from pyspark.sql import SparkSession"
   ]
  },
  {
   "cell_type": "code",
   "execution_count": 2,
   "id": "05eaa4e5",
   "metadata": {},
   "outputs": [],
   "source": [
    "conf = (\n",
    "    pyspark.SparkConf()\n",
    "        .setAppName('app_name')\n",
    "  \t\t#packages\n",
    "        .set('spark.jars.packages', 'org.apache.iceberg:iceberg-spark-runtime-3.4_2.12:1.3.1,software.amazon.awssdk:bundle:2.17.178,software.amazon.awssdk:url-connection-client:2.17.178')\n",
    "  \t\t#SQL Extensions\n",
    "        .set('spark.sql.extensions', 'org.apache.iceberg.spark.extensions.IcebergSparkSessionExtensions')\n",
    "  \t\t#Configuring Catalog\n",
    "        .set('spark.sql.catalog.spark_catalog','org.apache.iceberg.spark.SparkSessionCatalog')\n",
    "        .set('spark.sql.catalog.spark_catalog.type','hive')\n",
    "        .set('spark.sql.catalog.iceberg', 'org.apache.iceberg.spark.SparkCatalog')\n",
    "        .set('spark.sql.catalog.iceberg.type', 'hadoop')\n",
    "        .set('spark.sql.catalog.iceberg.warehouse', 'iceberg-warehouse')\n",
    ")"
   ]
  },
  {
   "cell_type": "code",
   "execution_count": 3,
   "id": "fc5d901a",
   "metadata": {},
   "outputs": [
    {
     "name": "stdout",
     "output_type": "stream",
     "text": [
      ":: loading settings :: url = jar:file:/opt/anaconda3/lib/python3.9/site-packages/pyspark/jars/ivy-2.5.1.jar!/org/apache/ivy/core/settings/ivysettings.xml\n"
     ]
    },
    {
     "name": "stderr",
     "output_type": "stream",
     "text": [
      "Ivy Default Cache set to: /Users/anshumanr/.ivy2/cache\n",
      "The jars for the packages stored in: /Users/anshumanr/.ivy2/jars\n",
      "org.apache.iceberg#iceberg-spark-runtime-3.4_2.12 added as a dependency\n",
      "software.amazon.awssdk#bundle added as a dependency\n",
      "software.amazon.awssdk#url-connection-client added as a dependency\n",
      ":: resolving dependencies :: org.apache.spark#spark-submit-parent-373781d3-5088-4c33-bf5c-8be35d24c83c;1.0\n",
      "\tconfs: [default]\n",
      "\tfound org.apache.iceberg#iceberg-spark-runtime-3.4_2.12;1.3.1 in central\n",
      "\tfound software.amazon.awssdk#bundle;2.17.178 in central\n",
      "\tfound software.amazon.eventstream#eventstream;1.0.1 in central\n",
      "\tfound software.amazon.awssdk#url-connection-client;2.17.178 in central\n",
      "\tfound software.amazon.awssdk#utils;2.17.178 in central\n",
      "\tfound org.reactivestreams#reactive-streams;1.0.3 in central\n",
      "\tfound software.amazon.awssdk#annotations;2.17.178 in central\n",
      "\tfound org.slf4j#slf4j-api;1.7.30 in local-m2-cache\n",
      "\tfound software.amazon.awssdk#http-client-spi;2.17.178 in central\n",
      "\tfound software.amazon.awssdk#metrics-spi;2.17.178 in central\n",
      ":: resolution report :: resolve 835ms :: artifacts dl 72ms\n",
      "\t:: modules in use:\n",
      "\torg.apache.iceberg#iceberg-spark-runtime-3.4_2.12;1.3.1 from central in [default]\n",
      "\torg.reactivestreams#reactive-streams;1.0.3 from central in [default]\n",
      "\torg.slf4j#slf4j-api;1.7.30 from local-m2-cache in [default]\n",
      "\tsoftware.amazon.awssdk#annotations;2.17.178 from central in [default]\n",
      "\tsoftware.amazon.awssdk#bundle;2.17.178 from central in [default]\n",
      "\tsoftware.amazon.awssdk#http-client-spi;2.17.178 from central in [default]\n",
      "\tsoftware.amazon.awssdk#metrics-spi;2.17.178 from central in [default]\n",
      "\tsoftware.amazon.awssdk#url-connection-client;2.17.178 from central in [default]\n",
      "\tsoftware.amazon.awssdk#utils;2.17.178 from central in [default]\n",
      "\tsoftware.amazon.eventstream#eventstream;1.0.1 from central in [default]\n",
      "\t---------------------------------------------------------------------\n",
      "\t|                  |            modules            ||   artifacts   |\n",
      "\t|       conf       | number| search|dwnlded|evicted|| number|dwnlded|\n",
      "\t---------------------------------------------------------------------\n",
      "\t|      default     |   10  |   0   |   0   |   0   ||   10  |   0   |\n",
      "\t---------------------------------------------------------------------\n",
      ":: retrieving :: org.apache.spark#spark-submit-parent-373781d3-5088-4c33-bf5c-8be35d24c83c\n",
      "\tconfs: [default]\n",
      "\t0 artifacts copied, 10 already retrieved (0kB/19ms)\n",
      "23/08/17 15:07:15 WARN NativeCodeLoader: Unable to load native-hadoop library for your platform... using builtin-java classes where applicable\n",
      "Setting default log level to \"WARN\".\n",
      "To adjust logging level use sc.setLogLevel(newLevel). For SparkR, use setLogLevel(newLevel).\n"
     ]
    },
    {
     "name": "stdout",
     "output_type": "stream",
     "text": [
      "Spark Running\n"
     ]
    }
   ],
   "source": [
    "## Start Spark Session\n",
    "spark = SparkSession.builder.config(conf=conf).getOrCreate()\n",
    "print(\"Spark Running\")"
   ]
  },
  {
   "cell_type": "markdown",
   "id": "37dd23ae",
   "metadata": {},
   "source": [
    "# Copy On Write"
   ]
  },
  {
   "cell_type": "code",
   "execution_count": 4,
   "id": "ee4a6c06",
   "metadata": {},
   "outputs": [
    {
     "data": {
      "text/plain": [
       "DataFrame[]"
      ]
     },
     "execution_count": 4,
     "metadata": {},
     "output_type": "execute_result"
    }
   ],
   "source": [
    "spark.sql(''' CREATE TABLE iceberg.db.students (\n",
    "    id int,\n",
    "    first_name string,\n",
    "    last_name string,\n",
    "    major string,\n",
    "    class_year int\n",
    ") USING iceberg \n",
    " TBLPROPERTIES (\n",
    "    'write.delete.mode'='copy-on-write',\n",
    "    'write.update.mode'='copy-on-write',\n",
    "    'write.merge.mode'='copy-on-write'\n",
    ")\n",
    "PARTITIONED BY (class_year) ;''')"
   ]
  },
  {
   "cell_type": "code",
   "execution_count": 5,
   "id": "042ec5aa",
   "metadata": {},
   "outputs": [
    {
     "name": "stderr",
     "output_type": "stream",
     "text": [
      "                                                                                \r"
     ]
    },
    {
     "data": {
      "text/plain": [
       "DataFrame[]"
      ]
     },
     "execution_count": 5,
     "metadata": {},
     "output_type": "execute_result"
    }
   ],
   "source": [
    "spark.sql('''\n",
    "INSERT INTO iceberg.db.students (id, first_name, last_name, major, class_year)\n",
    "VALUES\n",
    "(1, 'John', 'Doe', 'Computer Science', 2023),\n",
    "(2, 'Jane', 'Doe', 'Business', 2019),\n",
    "(3, 'Peter', 'Smith', 'Engineering', 2021),\n",
    "(4, 'Susan', 'Williams', 'Nursing', 2023),\n",
    "(5, 'David', 'Johnson', 'Law', 2020),\n",
    "(6, 'Elizabeth', 'Brown', 'Art', 2021),\n",
    "(7, 'Michael', 'Green', 'History', 2019),\n",
    "(8, 'Sarah', 'White', 'English', 2020),\n",
    "(9, 'William', 'Black', 'Mathematics', 2021),\n",
    "(10, 'Mary', 'Brown', 'Physics', 2022),\n",
    "(11, 'Thomas', 'Green', 'Chemistry', 2022),\n",
    "(12, 'Jennifer', 'White', 'Biology', 2020),\n",
    "(13, 'Charles', 'Black', 'Geology', 2020),\n",
    "(14, 'Lisa', 'Brown', 'Astronomy', 2019),\n",
    "(15, 'Henry', 'Green', 'Meteorology', 2020),\n",
    "(16, 'Nancy', 'White', 'Economics', 2022),\n",
    "(17, 'Daniel', 'Black', 'Political Science', 2022),\n",
    "(18, 'Emily', 'Brown', 'Philosophy', 2021),\n",
    "(19, 'Matthew', 'Green', 'Psychology', 2019),\n",
    "(20, 'Jessica', 'White', 'Sociology', 2021); ''')"
   ]
  },
  {
   "cell_type": "code",
   "execution_count": 6,
   "id": "64111f91",
   "metadata": {},
   "outputs": [
    {
     "name": "stdout",
     "output_type": "stream",
     "text": [
      "+---+----------+---------+-----------------+----------+\n",
      "| id|first_name|last_name|            major|class_year|\n",
      "+---+----------+---------+-----------------+----------+\n",
      "|  2|      Jane|      Doe|         Business|      2019|\n",
      "|  7|   Michael|    Green|          History|      2019|\n",
      "| 14|      Lisa|    Brown|        Astronomy|      2019|\n",
      "| 19|   Matthew|    Green|       Psychology|      2019|\n",
      "|  5|     David|  Johnson|              Law|      2020|\n",
      "|  8|     Sarah|    White|          English|      2020|\n",
      "| 12|  Jennifer|    White|          Biology|      2020|\n",
      "| 13|   Charles|    Black|          Geology|      2020|\n",
      "| 15|     Henry|    Green|      Meteorology|      2020|\n",
      "|  3|     Peter|    Smith|      Engineering|      2021|\n",
      "|  6| Elizabeth|    Brown|              Art|      2021|\n",
      "|  9|   William|    Black|      Mathematics|      2021|\n",
      "| 18|     Emily|    Brown|       Philosophy|      2021|\n",
      "| 20|   Jessica|    White|        Sociology|      2021|\n",
      "| 10|      Mary|    Brown|          Physics|      2022|\n",
      "| 11|    Thomas|    Green|        Chemistry|      2022|\n",
      "| 16|     Nancy|    White|        Economics|      2022|\n",
      "| 17|    Daniel|    Black|Political Science|      2022|\n",
      "|  1|      John|      Doe| Computer Science|      2023|\n",
      "|  4|     Susan| Williams|          Nursing|      2023|\n",
      "+---+----------+---------+-----------------+----------+\n",
      "\n"
     ]
    }
   ],
   "source": [
    "#Reading \n",
    "spark.sql(\"select * from iceberg.db.students\").show()"
   ]
  },
  {
   "cell_type": "code",
   "execution_count": 7,
   "id": "800c7b84",
   "metadata": {},
   "outputs": [
    {
     "data": {
      "text/plain": [
       "DataFrame[]"
      ]
     },
     "execution_count": 7,
     "metadata": {},
     "output_type": "execute_result"
    }
   ],
   "source": [
    "#Updating\n",
    "spark.sql(\"update iceberg.db.students set major = 'Zoology' where id = 4;\")"
   ]
  },
  {
   "cell_type": "code",
   "execution_count": 8,
   "id": "e90b4e90",
   "metadata": {},
   "outputs": [
    {
     "name": "stdout",
     "output_type": "stream",
     "text": [
      "+---+----------+---------+-----------------+----------+\n",
      "| id|first_name|last_name|            major|class_year|\n",
      "+---+----------+---------+-----------------+----------+\n",
      "|  2|      Jane|      Doe|         Business|      2019|\n",
      "|  7|   Michael|    Green|          History|      2019|\n",
      "| 14|      Lisa|    Brown|        Astronomy|      2019|\n",
      "| 19|   Matthew|    Green|       Psychology|      2019|\n",
      "|  5|     David|  Johnson|              Law|      2020|\n",
      "|  8|     Sarah|    White|          English|      2020|\n",
      "| 12|  Jennifer|    White|          Biology|      2020|\n",
      "| 13|   Charles|    Black|          Geology|      2020|\n",
      "| 15|     Henry|    Green|      Meteorology|      2020|\n",
      "|  3|     Peter|    Smith|      Engineering|      2021|\n",
      "|  6| Elizabeth|    Brown|              Art|      2021|\n",
      "|  9|   William|    Black|      Mathematics|      2021|\n",
      "| 18|     Emily|    Brown|       Philosophy|      2021|\n",
      "| 20|   Jessica|    White|        Sociology|      2021|\n",
      "| 10|      Mary|    Brown|          Physics|      2022|\n",
      "| 11|    Thomas|    Green|        Chemistry|      2022|\n",
      "| 16|     Nancy|    White|        Economics|      2022|\n",
      "| 17|    Daniel|    Black|Political Science|      2022|\n",
      "|  1|      John|      Doe| Computer Science|      2023|\n",
      "|  4|     Susan| Williams|          Zoology|      2023|\n",
      "+---+----------+---------+-----------------+----------+\n",
      "\n"
     ]
    }
   ],
   "source": [
    "spark.sql(\"select * from iceberg.db.students\").show()"
   ]
  },
  {
   "cell_type": "code",
   "execution_count": 9,
   "id": "0d281554",
   "metadata": {},
   "outputs": [
    {
     "data": {
      "text/plain": [
       "DataFrame[]"
      ]
     },
     "execution_count": 9,
     "metadata": {},
     "output_type": "execute_result"
    }
   ],
   "source": [
    "#deleting records\n",
    "spark.sql(\"delete from iceberg.db.students where class_year < 2020;\")"
   ]
  },
  {
   "cell_type": "code",
   "execution_count": 10,
   "id": "55d0a80d",
   "metadata": {
    "scrolled": true
   },
   "outputs": [
    {
     "name": "stdout",
     "output_type": "stream",
     "text": [
      "+---+----------+---------+-----------------+----------+\n",
      "| id|first_name|last_name|            major|class_year|\n",
      "+---+----------+---------+-----------------+----------+\n",
      "|  5|     David|  Johnson|              Law|      2020|\n",
      "|  8|     Sarah|    White|          English|      2020|\n",
      "| 12|  Jennifer|    White|          Biology|      2020|\n",
      "| 13|   Charles|    Black|          Geology|      2020|\n",
      "| 15|     Henry|    Green|      Meteorology|      2020|\n",
      "|  1|      John|      Doe| Computer Science|      2023|\n",
      "|  4|     Susan| Williams|          Zoology|      2023|\n",
      "|  3|     Peter|    Smith|      Engineering|      2021|\n",
      "|  6| Elizabeth|    Brown|              Art|      2021|\n",
      "|  9|   William|    Black|      Mathematics|      2021|\n",
      "| 18|     Emily|    Brown|       Philosophy|      2021|\n",
      "| 20|   Jessica|    White|        Sociology|      2021|\n",
      "| 10|      Mary|    Brown|          Physics|      2022|\n",
      "| 11|    Thomas|    Green|        Chemistry|      2022|\n",
      "| 16|     Nancy|    White|        Economics|      2022|\n",
      "| 17|    Daniel|    Black|Political Science|      2022|\n",
      "+---+----------+---------+-----------------+----------+\n",
      "\n"
     ]
    }
   ],
   "source": [
    "spark.sql(\"select * from iceberg.db.students\").show()"
   ]
  },
  {
   "cell_type": "code",
   "execution_count": 11,
   "id": "99e81775",
   "metadata": {},
   "outputs": [
    {
     "data": {
      "text/plain": [
       "DataFrame[]"
      ]
     },
     "execution_count": 11,
     "metadata": {},
     "output_type": "execute_result"
    }
   ],
   "source": [
    "#Creating a new table used to merge records\n",
    "spark.sql(''' CREATE TABLE iceberg.db.new_table(\n",
    "    id int,\n",
    "    first_name string,\n",
    "    last_name string,\n",
    "    major string,\n",
    "    class_year int\n",
    ") USING iceberg \n",
    "''')"
   ]
  },
  {
   "cell_type": "code",
   "execution_count": 12,
   "id": "6230460c",
   "metadata": {},
   "outputs": [
    {
     "data": {
      "text/plain": [
       "DataFrame[]"
      ]
     },
     "execution_count": 12,
     "metadata": {},
     "output_type": "execute_result"
    }
   ],
   "source": [
    "spark.sql('''\n",
    "INSERT INTO iceberg.db.new_table(id, first_name, last_name, major, class_year)\n",
    "VALUES\n",
    "(1, 'James', 'smith', 'Commerce', 2023),\n",
    "(2, 'Jane', 'Foster', 'Astrology', 2018),\n",
    "(20, 'Peter', 'Parker', 'Aerospace', 2019); ''')"
   ]
  },
  {
   "cell_type": "code",
   "execution_count": 13,
   "id": "0a9829ca",
   "metadata": {},
   "outputs": [
    {
     "name": "stdout",
     "output_type": "stream",
     "text": [
      "+---+----------+---------+---------+----------+\n",
      "| id|first_name|last_name|    major|class_year|\n",
      "+---+----------+---------+---------+----------+\n",
      "|  1|     James|    smith| Commerce|      2023|\n",
      "|  2|      Jane|   Foster|Astrology|      2018|\n",
      "| 20|     Peter|   Parker|Aerospace|      2019|\n",
      "+---+----------+---------+---------+----------+\n",
      "\n"
     ]
    }
   ],
   "source": [
    "spark.sql(\"select * from iceberg.db.new_table\").show()"
   ]
  },
  {
   "cell_type": "code",
   "execution_count": 14,
   "id": "4b3aeca5",
   "metadata": {},
   "outputs": [],
   "source": [
    "#merging records from new_table into students"
   ]
  },
  {
   "cell_type": "code",
   "execution_count": 15,
   "id": "78ff0899",
   "metadata": {},
   "outputs": [
    {
     "name": "stderr",
     "output_type": "stream",
     "text": [
      "                                                                                \r"
     ]
    },
    {
     "data": {
      "text/plain": [
       "DataFrame[]"
      ]
     },
     "execution_count": 15,
     "metadata": {},
     "output_type": "execute_result"
    }
   ],
   "source": [
    "spark.sql('''Merge into iceberg.db.students\n",
    "using (select * from iceberg.db.new_table) nt \n",
    "on iceberg.db.students.id = nt.id\n",
    "when matched then update set \n",
    "iceberg.db.students.id = nt.id,\n",
    "iceberg.db.students.first_name = nt.first_name,\n",
    "iceberg.db.students.last_name = nt.last_name,\n",
    "iceberg.db.students.major = nt.major,\n",
    "iceberg.db.students.class_year = nt.class_year\n",
    "when not matched then insert *;\n",
    "''')"
   ]
  },
  {
   "cell_type": "code",
   "execution_count": 16,
   "id": "f406c8d1",
   "metadata": {},
   "outputs": [
    {
     "name": "stdout",
     "output_type": "stream",
     "text": [
      "+---+----------+---------+-----------------+----------+\n",
      "| id|first_name|last_name|            major|class_year|\n",
      "+---+----------+---------+-----------------+----------+\n",
      "|  5|     David|  Johnson|              Law|      2020|\n",
      "|  8|     Sarah|    White|          English|      2020|\n",
      "| 12|  Jennifer|    White|          Biology|      2020|\n",
      "| 13|   Charles|    Black|          Geology|      2020|\n",
      "| 15|     Henry|    Green|      Meteorology|      2020|\n",
      "|  2|      Jane|   Foster|        Astrology|      2018|\n",
      "| 20|     Peter|   Parker|        Aerospace|      2019|\n",
      "| 10|      Mary|    Brown|          Physics|      2022|\n",
      "| 11|    Thomas|    Green|        Chemistry|      2022|\n",
      "| 16|     Nancy|    White|        Economics|      2022|\n",
      "| 17|    Daniel|    Black|Political Science|      2022|\n",
      "|  3|     Peter|    Smith|      Engineering|      2021|\n",
      "|  6| Elizabeth|    Brown|              Art|      2021|\n",
      "|  9|   William|    Black|      Mathematics|      2021|\n",
      "| 18|     Emily|    Brown|       Philosophy|      2021|\n",
      "|  1|     James|    smith|         Commerce|      2023|\n",
      "|  4|     Susan| Williams|          Zoology|      2023|\n",
      "+---+----------+---------+-----------------+----------+\n",
      "\n"
     ]
    }
   ],
   "source": [
    "spark.sql(\"select * from iceberg.db.students\").show()"
   ]
  },
  {
   "cell_type": "code",
   "execution_count": 17,
   "id": "8b23b7a8",
   "metadata": {},
   "outputs": [
    {
     "name": "stdout",
     "output_type": "stream",
     "text": [
      "+--------------------+-------------------+-------------------+-------------------+\n",
      "|     made_current_at|        snapshot_id|          parent_id|is_current_ancestor|\n",
      "+--------------------+-------------------+-------------------+-------------------+\n",
      "|2023-08-17 15:07:...|5837853119636701363|               null|               true|\n",
      "|2023-08-17 15:07:...| 934080563060979373|5837853119636701363|               true|\n",
      "|2023-08-17 15:07:...|7587528544806105650| 934080563060979373|               true|\n",
      "|2023-08-17 15:08:...|6014490099645444523|7587528544806105650|               true|\n",
      "+--------------------+-------------------+-------------------+-------------------+\n",
      "\n"
     ]
    },
    {
     "name": "stderr",
     "output_type": "stream",
     "text": [
      "                                                                                \r"
     ]
    }
   ],
   "source": [
    "#inspecting table history\n",
    "df=spark.sql(\"SELECT * FROM iceberg.db.students.history\")\n",
    "df.show()\n",
    "df.write.save(\"/Users/anshumanr/Documents/Iceberg/Apache_iceberg/iceberg-warehouse/db/students/history\",header=True)"
   ]
  },
  {
   "cell_type": "code",
   "execution_count": 18,
   "id": "5e83f9f6",
   "metadata": {},
   "outputs": [
    {
     "name": "stdout",
     "output_type": "stream",
     "text": [
      "+--------------------+-------------------+-------------------+---------+--------------------+--------------------+\n",
      "|        committed_at|        snapshot_id|          parent_id|operation|       manifest_list|             summary|\n",
      "+--------------------+-------------------+-------------------+---------+--------------------+--------------------+\n",
      "|2023-08-17 15:07:...|5837853119636701363|               null|   append|iceberg-warehouse...|{spark.app.id -> ...|\n",
      "|2023-08-17 15:07:...| 934080563060979373|5837853119636701363|overwrite|iceberg-warehouse...|{spark.app.id -> ...|\n",
      "|2023-08-17 15:07:...|7587528544806105650| 934080563060979373|   delete|iceberg-warehouse...|{spark.app.id -> ...|\n",
      "|2023-08-17 15:08:...|6014490099645444523|7587528544806105650|overwrite|iceberg-warehouse...|{spark.app.id -> ...|\n",
      "+--------------------+-------------------+-------------------+---------+--------------------+--------------------+\n",
      "\n"
     ]
    }
   ],
   "source": [
    "#inspecting table snapshots\n",
    "df=spark.sql(\"SELECT * FROM iceberg.db.students.snapshots\")\n",
    "df.show()\n",
    "df.write.save(\"/Users/anshumanr/Documents/Iceberg/Apache_iceberg/iceberg-warehouse/db/students/snapshots\",header=True)"
   ]
  },
  {
   "cell_type": "markdown",
   "id": "78a7f327",
   "metadata": {},
   "source": [
    "# Merge On Read"
   ]
  },
  {
   "cell_type": "code",
   "execution_count": 19,
   "id": "6c7fa1a4",
   "metadata": {},
   "outputs": [
    {
     "data": {
      "text/plain": [
       "DataFrame[]"
      ]
     },
     "execution_count": 19,
     "metadata": {},
     "output_type": "execute_result"
    }
   ],
   "source": [
    "spark.sql(''' CREATE TABLE iceberg.db.students2 (\n",
    "    id int,\n",
    "    first_name string,\n",
    "    last_name string,\n",
    "    major string,\n",
    "    class_year int\n",
    ") USING iceberg \n",
    " TBLPROPERTIES (\n",
    "    'write.delete.mode'='merge-on-read',\n",
    "    'write.update.mode'='merge-on-read',\n",
    "    'write.merge.mode'='merge-on-read',\n",
    "    'format-version'='2'\n",
    ")\n",
    "PARTITIONED BY (class_year) ;''')"
   ]
  },
  {
   "cell_type": "code",
   "execution_count": 20,
   "id": "4225bd69",
   "metadata": {},
   "outputs": [
    {
     "name": "stderr",
     "output_type": "stream",
     "text": [
      "                                                                                \r"
     ]
    },
    {
     "data": {
      "text/plain": [
       "DataFrame[]"
      ]
     },
     "execution_count": 20,
     "metadata": {},
     "output_type": "execute_result"
    }
   ],
   "source": [
    "spark.sql('''\n",
    "INSERT INTO iceberg.db.students2 (id, first_name, last_name, major, class_year)\n",
    "VALUES\n",
    "(1, 'John', 'Doe', 'Computer Science', 2023),\n",
    "(2, 'Jane', 'Doe', 'Business', 2019),\n",
    "(3, 'Peter', 'Smith', 'Engineering', 2021),\n",
    "(4, 'Susan', 'Williams', 'Nursing', 2023),\n",
    "(5, 'David', 'Johnson', 'Law', 2020),\n",
    "(6, 'Elizabeth', 'Brown', 'Art', 2021),\n",
    "(7, 'Michael', 'Green', 'History', 2019),\n",
    "(8, 'Sarah', 'White', 'English', 2020),\n",
    "(9, 'William', 'Black', 'Mathematics', 2021),\n",
    "(10, 'Mary', 'Brown', 'Physics', 2022),\n",
    "(11, 'Thomas', 'Green', 'Chemistry', 2022),\n",
    "(12, 'Jennifer', 'White', 'Biology', 2020),\n",
    "(13, 'Charles', 'Black', 'Geology', 2020),\n",
    "(14, 'Lisa', 'Brown', 'Astronomy', 2019),\n",
    "(15, 'Henry', 'Green', 'Meteorology', 2020),\n",
    "(16, 'Nancy', 'White', 'Economics', 2022),\n",
    "(17, 'Daniel', 'Black', 'Political Science', 2022),\n",
    "(18, 'Emily', 'Brown', 'Philosophy', 2021),\n",
    "(19, 'Matthew', 'Green', 'Psychology', 2019),\n",
    "(20, 'Jessica', 'White', 'Sociology', 2021); ''')"
   ]
  },
  {
   "cell_type": "code",
   "execution_count": 21,
   "id": "f24a7572",
   "metadata": {},
   "outputs": [
    {
     "name": "stdout",
     "output_type": "stream",
     "text": [
      "+---+----------+---------+-----------------+----------+\n",
      "| id|first_name|last_name|            major|class_year|\n",
      "+---+----------+---------+-----------------+----------+\n",
      "|  2|      Jane|      Doe|         Business|      2019|\n",
      "|  7|   Michael|    Green|          History|      2019|\n",
      "| 14|      Lisa|    Brown|        Astronomy|      2019|\n",
      "| 19|   Matthew|    Green|       Psychology|      2019|\n",
      "|  5|     David|  Johnson|              Law|      2020|\n",
      "|  8|     Sarah|    White|          English|      2020|\n",
      "| 12|  Jennifer|    White|          Biology|      2020|\n",
      "| 13|   Charles|    Black|          Geology|      2020|\n",
      "| 15|     Henry|    Green|      Meteorology|      2020|\n",
      "|  3|     Peter|    Smith|      Engineering|      2021|\n",
      "|  6| Elizabeth|    Brown|              Art|      2021|\n",
      "|  9|   William|    Black|      Mathematics|      2021|\n",
      "| 18|     Emily|    Brown|       Philosophy|      2021|\n",
      "| 20|   Jessica|    White|        Sociology|      2021|\n",
      "| 10|      Mary|    Brown|          Physics|      2022|\n",
      "| 11|    Thomas|    Green|        Chemistry|      2022|\n",
      "| 16|     Nancy|    White|        Economics|      2022|\n",
      "| 17|    Daniel|    Black|Political Science|      2022|\n",
      "|  1|      John|      Doe| Computer Science|      2023|\n",
      "|  4|     Susan| Williams|          Nursing|      2023|\n",
      "+---+----------+---------+-----------------+----------+\n",
      "\n"
     ]
    }
   ],
   "source": [
    "#Reading \n",
    "spark.sql(\"select * from iceberg.db.students2\").show()"
   ]
  },
  {
   "cell_type": "code",
   "execution_count": 22,
   "id": "d08f45aa",
   "metadata": {},
   "outputs": [
    {
     "data": {
      "text/plain": [
       "DataFrame[]"
      ]
     },
     "execution_count": 22,
     "metadata": {},
     "output_type": "execute_result"
    }
   ],
   "source": [
    "#Updating\n",
    "spark.sql(\"update iceberg.db.students2 set last_name = 'Jones' where id = 20;\")"
   ]
  },
  {
   "cell_type": "code",
   "execution_count": 23,
   "id": "6ec6d463",
   "metadata": {
    "scrolled": false
   },
   "outputs": [
    {
     "name": "stdout",
     "output_type": "stream",
     "text": [
      "+---+----------+---------+-----------------+----------+\n",
      "| id|first_name|last_name|            major|class_year|\n",
      "+---+----------+---------+-----------------+----------+\n",
      "|  2|      Jane|      Doe|         Business|      2019|\n",
      "|  7|   Michael|    Green|          History|      2019|\n",
      "| 14|      Lisa|    Brown|        Astronomy|      2019|\n",
      "| 19|   Matthew|    Green|       Psychology|      2019|\n",
      "| 20|   Jessica|    Jones|        Sociology|      2021|\n",
      "|  5|     David|  Johnson|              Law|      2020|\n",
      "|  8|     Sarah|    White|          English|      2020|\n",
      "| 12|  Jennifer|    White|          Biology|      2020|\n",
      "| 13|   Charles|    Black|          Geology|      2020|\n",
      "| 15|     Henry|    Green|      Meteorology|      2020|\n",
      "|  3|     Peter|    Smith|      Engineering|      2021|\n",
      "|  6| Elizabeth|    Brown|              Art|      2021|\n",
      "|  9|   William|    Black|      Mathematics|      2021|\n",
      "| 18|     Emily|    Brown|       Philosophy|      2021|\n",
      "| 10|      Mary|    Brown|          Physics|      2022|\n",
      "| 11|    Thomas|    Green|        Chemistry|      2022|\n",
      "| 16|     Nancy|    White|        Economics|      2022|\n",
      "| 17|    Daniel|    Black|Political Science|      2022|\n",
      "|  1|      John|      Doe| Computer Science|      2023|\n",
      "|  4|     Susan| Williams|          Nursing|      2023|\n",
      "+---+----------+---------+-----------------+----------+\n",
      "\n"
     ]
    }
   ],
   "source": [
    "spark.sql(\"select * from iceberg.db.students2\").show()"
   ]
  },
  {
   "cell_type": "code",
   "execution_count": 24,
   "id": "3fe8a4bc",
   "metadata": {},
   "outputs": [
    {
     "data": {
      "text/plain": [
       "DataFrame[]"
      ]
     },
     "execution_count": 24,
     "metadata": {},
     "output_type": "execute_result"
    }
   ],
   "source": [
    "#deleting records\n",
    "spark.sql(\"delete from iceberg.db.students2 where class_year < 2020;\")"
   ]
  },
  {
   "cell_type": "code",
   "execution_count": 25,
   "id": "be487b37",
   "metadata": {},
   "outputs": [
    {
     "name": "stdout",
     "output_type": "stream",
     "text": [
      "+---+----------+---------+-----------------+----------+\n",
      "| id|first_name|last_name|            major|class_year|\n",
      "+---+----------+---------+-----------------+----------+\n",
      "| 20|   Jessica|    Jones|        Sociology|      2021|\n",
      "|  5|     David|  Johnson|              Law|      2020|\n",
      "|  8|     Sarah|    White|          English|      2020|\n",
      "| 12|  Jennifer|    White|          Biology|      2020|\n",
      "| 13|   Charles|    Black|          Geology|      2020|\n",
      "| 15|     Henry|    Green|      Meteorology|      2020|\n",
      "|  3|     Peter|    Smith|      Engineering|      2021|\n",
      "|  6| Elizabeth|    Brown|              Art|      2021|\n",
      "|  9|   William|    Black|      Mathematics|      2021|\n",
      "| 18|     Emily|    Brown|       Philosophy|      2021|\n",
      "| 10|      Mary|    Brown|          Physics|      2022|\n",
      "| 11|    Thomas|    Green|        Chemistry|      2022|\n",
      "| 16|     Nancy|    White|        Economics|      2022|\n",
      "| 17|    Daniel|    Black|Political Science|      2022|\n",
      "|  1|      John|      Doe| Computer Science|      2023|\n",
      "|  4|     Susan| Williams|          Nursing|      2023|\n",
      "+---+----------+---------+-----------------+----------+\n",
      "\n"
     ]
    }
   ],
   "source": [
    "spark.sql(\"select * from iceberg.db.students2\").show()"
   ]
  },
  {
   "cell_type": "code",
   "execution_count": 26,
   "id": "e98d2bfc",
   "metadata": {},
   "outputs": [
    {
     "name": "stdout",
     "output_type": "stream",
     "text": [
      "+---+----------+---------+---------+----------+\n",
      "| id|first_name|last_name|    major|class_year|\n",
      "+---+----------+---------+---------+----------+\n",
      "|  1|     James|    smith| Commerce|      2023|\n",
      "|  2|      Jane|   Foster|Astrology|      2018|\n",
      "| 20|     Peter|   Parker|Aerospace|      2019|\n",
      "+---+----------+---------+---------+----------+\n",
      "\n"
     ]
    }
   ],
   "source": [
    "spark.sql('select * from iceberg.db.new_table').show()"
   ]
  },
  {
   "cell_type": "code",
   "execution_count": 27,
   "id": "e9f96f1f",
   "metadata": {},
   "outputs": [
    {
     "name": "stderr",
     "output_type": "stream",
     "text": [
      "\r",
      "[Stage 34:>                                                         (0 + 1) / 1]\r",
      "\r",
      "                                                                                \r"
     ]
    },
    {
     "data": {
      "text/plain": [
       "DataFrame[]"
      ]
     },
     "execution_count": 27,
     "metadata": {},
     "output_type": "execute_result"
    }
   ],
   "source": [
    "#merging new_table into students2\n",
    "spark.sql('''Merge into iceberg.db.students2\n",
    "using (select * from iceberg.db.new_table) nt \n",
    "on iceberg.db.students2.id = nt.id\n",
    "when matched then update set \n",
    "iceberg.db.students2.id = nt.id,\n",
    "iceberg.db.students2.first_name = nt.first_name,\n",
    "iceberg.db.students2.last_name = nt.last_name,\n",
    "iceberg.db.students2.major = nt.major,\n",
    "iceberg.db.students2.class_year = nt.class_year\n",
    "when not matched then insert *;\n",
    "''')"
   ]
  },
  {
   "cell_type": "code",
   "execution_count": 28,
   "id": "556858a1",
   "metadata": {},
   "outputs": [
    {
     "name": "stdout",
     "output_type": "stream",
     "text": [
      "+---+----------+---------+-----------------+----------+\n",
      "| id|first_name|last_name|            major|class_year|\n",
      "+---+----------+---------+-----------------+----------+\n",
      "|  2|      Jane|   Foster|        Astrology|      2018|\n",
      "| 20|     Peter|   Parker|        Aerospace|      2019|\n",
      "|  5|     David|  Johnson|              Law|      2020|\n",
      "|  8|     Sarah|    White|          English|      2020|\n",
      "| 12|  Jennifer|    White|          Biology|      2020|\n",
      "| 13|   Charles|    Black|          Geology|      2020|\n",
      "| 15|     Henry|    Green|      Meteorology|      2020|\n",
      "|  1|     James|    smith|         Commerce|      2023|\n",
      "|  3|     Peter|    Smith|      Engineering|      2021|\n",
      "|  6| Elizabeth|    Brown|              Art|      2021|\n",
      "|  9|   William|    Black|      Mathematics|      2021|\n",
      "| 18|     Emily|    Brown|       Philosophy|      2021|\n",
      "| 10|      Mary|    Brown|          Physics|      2022|\n",
      "| 11|    Thomas|    Green|        Chemistry|      2022|\n",
      "| 16|     Nancy|    White|        Economics|      2022|\n",
      "| 17|    Daniel|    Black|Political Science|      2022|\n",
      "|  4|     Susan| Williams|          Nursing|      2023|\n",
      "+---+----------+---------+-----------------+----------+\n",
      "\n"
     ]
    }
   ],
   "source": [
    "spark.sql(\"select * from iceberg.db.students2\").show()"
   ]
  },
  {
   "cell_type": "code",
   "execution_count": 29,
   "id": "bb8c6e6b",
   "metadata": {},
   "outputs": [
    {
     "name": "stdout",
     "output_type": "stream",
     "text": [
      "+--------------------+-------------------+-------------------+-------------------+\n",
      "|     made_current_at|        snapshot_id|          parent_id|is_current_ancestor|\n",
      "+--------------------+-------------------+-------------------+-------------------+\n",
      "|2023-08-17 15:08:...|1902236467335246869|               null|               true|\n",
      "|2023-08-17 15:08:...|1033710749508415506|1902236467335246869|               true|\n",
      "|2023-08-17 15:08:...|7716988095302758307|1033710749508415506|               true|\n",
      "|2023-08-17 15:08:...|5293719449446274574|7716988095302758307|               true|\n",
      "+--------------------+-------------------+-------------------+-------------------+\n",
      "\n"
     ]
    }
   ],
   "source": [
    "#inspecting table history\n",
    "df=spark.sql(\"SELECT * FROM iceberg.db.students2.history\")\n",
    "df.show()\n",
    "df.write.save(\"/Users/anshumanr/Documents/Iceberg/Apache_iceberg/iceberg-warehouse/db/students2/history\",header=True)"
   ]
  },
  {
   "cell_type": "code",
   "execution_count": 30,
   "id": "897a157a",
   "metadata": {},
   "outputs": [
    {
     "name": "stdout",
     "output_type": "stream",
     "text": [
      "+--------------------+-------------------+-------------------+---------+--------------------+--------------------+\n",
      "|        committed_at|        snapshot_id|          parent_id|operation|       manifest_list|             summary|\n",
      "+--------------------+-------------------+-------------------+---------+--------------------+--------------------+\n",
      "|2023-08-17 15:08:...|1902236467335246869|               null|   append|iceberg-warehouse...|{spark.app.id -> ...|\n",
      "|2023-08-17 15:08:...|1033710749508415506|1902236467335246869|overwrite|iceberg-warehouse...|{spark.app.id -> ...|\n",
      "|2023-08-17 15:08:...|7716988095302758307|1033710749508415506|   delete|iceberg-warehouse...|{spark.app.id -> ...|\n",
      "|2023-08-17 15:08:...|5293719449446274574|7716988095302758307|overwrite|iceberg-warehouse...|{spark.app.id -> ...|\n",
      "+--------------------+-------------------+-------------------+---------+--------------------+--------------------+\n",
      "\n"
     ]
    }
   ],
   "source": [
    "#inspecting table snapshots\n",
    "df=spark.sql(\"SELECT * FROM iceberg.db.students2.snapshots\")\n",
    "df.show()\n",
    "df.write.save(\"/Users/anshumanr/Documents/Iceberg/Apache_iceberg/iceberg-warehouse/db/students2/snapshots\",header=True)"
   ]
  },
  {
   "cell_type": "code",
   "execution_count": null,
   "id": "ed13bfb0",
   "metadata": {},
   "outputs": [],
   "source": []
  },
  {
   "cell_type": "code",
   "execution_count": null,
   "id": "c37f09b8",
   "metadata": {},
   "outputs": [],
   "source": []
  }
 ],
 "metadata": {
  "kernelspec": {
   "display_name": "Python 3 (ipykernel)",
   "language": "python",
   "name": "python3"
  },
  "language_info": {
   "codemirror_mode": {
    "name": "ipython",
    "version": 3
   },
   "file_extension": ".py",
   "mimetype": "text/x-python",
   "name": "python",
   "nbconvert_exporter": "python",
   "pygments_lexer": "ipython3",
   "version": "3.9.16"
  }
 },
 "nbformat": 4,
 "nbformat_minor": 5
}
