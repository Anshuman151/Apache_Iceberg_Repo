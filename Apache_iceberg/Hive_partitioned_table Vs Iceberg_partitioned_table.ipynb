{
 "cells": [
  {
   "cell_type": "code",
   "execution_count": 1,
   "id": "d6538e32",
   "metadata": {},
   "outputs": [],
   "source": [
    "import os\n",
    "\n",
    "## import pyspark\n",
    "import pyspark\n",
    "from pyspark.sql import SparkSession"
   ]
  },
  {
   "cell_type": "code",
   "execution_count": 2,
   "id": "87abb5d8",
   "metadata": {},
   "outputs": [],
   "source": [
    "conf = (\n",
    "    pyspark.SparkConf()\n",
    "        .setAppName('app_name')\n",
    "  \t\t#packages\n",
    "        .set('spark.jars.packages', 'org.apache.iceberg:iceberg-spark-runtime-3.4_2.12:1.3.1,software.amazon.awssdk:bundle:2.17.178,software.amazon.awssdk:url-connection-client:2.17.178')\n",
    "  \t\t#SQL Extensions\n",
    "        .set('spark.sql.extensions', 'org.apache.iceberg.spark.extensions.IcebergSparkSessionExtensions')\n",
    "  \t\t#Configuring Catalog\n",
    "        .set('spark.sql.catalog.spark_catalog','org.apache.iceberg.spark.SparkSessionCatalog')\n",
    "        .set('spark.sql.catalog.spark_catalog.type','hive')\n",
    "        .set('spark.sql.catalog.iceberg', 'org.apache.iceberg.spark.SparkCatalog')\n",
    "        .set('spark.sql.catalog.iceberg.type', 'hadoop')\n",
    "        .set('spark.sql.catalog.iceberg.warehouse', 'iceberg-warehouse')\n",
    "        .set('spark.sql.warehouse.dir','hive-warehouse')\n",
    ")"
   ]
  },
  {
   "cell_type": "code",
   "execution_count": 3,
   "id": "b319247b",
   "metadata": {},
   "outputs": [
    {
     "name": "stdout",
     "output_type": "stream",
     "text": [
      ":: loading settings :: url = jar:file:/opt/anaconda3/lib/python3.9/site-packages/pyspark/jars/ivy-2.5.1.jar!/org/apache/ivy/core/settings/ivysettings.xml\n"
     ]
    },
    {
     "name": "stderr",
     "output_type": "stream",
     "text": [
      "Ivy Default Cache set to: /Users/anshumanr/.ivy2/cache\n",
      "The jars for the packages stored in: /Users/anshumanr/.ivy2/jars\n",
      "org.apache.iceberg#iceberg-spark-runtime-3.4_2.12 added as a dependency\n",
      "software.amazon.awssdk#bundle added as a dependency\n",
      "software.amazon.awssdk#url-connection-client added as a dependency\n",
      ":: resolving dependencies :: org.apache.spark#spark-submit-parent-f5661367-630b-4ad4-b9b8-af40832c5f1e;1.0\n",
      "\tconfs: [default]\n",
      "\tfound org.apache.iceberg#iceberg-spark-runtime-3.4_2.12;1.3.1 in central\n",
      "\tfound software.amazon.awssdk#bundle;2.17.178 in central\n",
      "\tfound software.amazon.eventstream#eventstream;1.0.1 in central\n",
      "\tfound software.amazon.awssdk#url-connection-client;2.17.178 in central\n",
      "\tfound software.amazon.awssdk#utils;2.17.178 in central\n",
      "\tfound org.reactivestreams#reactive-streams;1.0.3 in central\n",
      "\tfound software.amazon.awssdk#annotations;2.17.178 in central\n",
      "\tfound org.slf4j#slf4j-api;1.7.30 in local-m2-cache\n",
      "\tfound software.amazon.awssdk#http-client-spi;2.17.178 in central\n",
      "\tfound software.amazon.awssdk#metrics-spi;2.17.178 in central\n",
      ":: resolution report :: resolve 812ms :: artifacts dl 61ms\n",
      "\t:: modules in use:\n",
      "\torg.apache.iceberg#iceberg-spark-runtime-3.4_2.12;1.3.1 from central in [default]\n",
      "\torg.reactivestreams#reactive-streams;1.0.3 from central in [default]\n",
      "\torg.slf4j#slf4j-api;1.7.30 from local-m2-cache in [default]\n",
      "\tsoftware.amazon.awssdk#annotations;2.17.178 from central in [default]\n",
      "\tsoftware.amazon.awssdk#bundle;2.17.178 from central in [default]\n",
      "\tsoftware.amazon.awssdk#http-client-spi;2.17.178 from central in [default]\n",
      "\tsoftware.amazon.awssdk#metrics-spi;2.17.178 from central in [default]\n",
      "\tsoftware.amazon.awssdk#url-connection-client;2.17.178 from central in [default]\n",
      "\tsoftware.amazon.awssdk#utils;2.17.178 from central in [default]\n",
      "\tsoftware.amazon.eventstream#eventstream;1.0.1 from central in [default]\n",
      "\t---------------------------------------------------------------------\n",
      "\t|                  |            modules            ||   artifacts   |\n",
      "\t|       conf       | number| search|dwnlded|evicted|| number|dwnlded|\n",
      "\t---------------------------------------------------------------------\n",
      "\t|      default     |   10  |   0   |   0   |   0   ||   10  |   0   |\n",
      "\t---------------------------------------------------------------------\n",
      ":: retrieving :: org.apache.spark#spark-submit-parent-f5661367-630b-4ad4-b9b8-af40832c5f1e\n",
      "\tconfs: [default]\n",
      "\t0 artifacts copied, 10 already retrieved (0kB/17ms)\n",
      "23/08/18 18:31:00 WARN NativeCodeLoader: Unable to load native-hadoop library for your platform... using builtin-java classes where applicable\n",
      "Setting default log level to \"WARN\".\n",
      "To adjust logging level use sc.setLogLevel(newLevel). For SparkR, use setLogLevel(newLevel).\n"
     ]
    },
    {
     "name": "stdout",
     "output_type": "stream",
     "text": [
      "Spark Running\n"
     ]
    }
   ],
   "source": [
    "## Start Spark Session\n",
    "spark = SparkSession.builder.config(conf=conf).enableHiveSupport().getOrCreate()\n",
    "print(\"Spark Running\")"
   ]
  },
  {
   "cell_type": "markdown",
   "id": "0173abf2",
   "metadata": {},
   "source": [
    "# Creating Hive Table "
   ]
  },
  {
   "cell_type": "code",
   "execution_count": 4,
   "id": "9f051915",
   "metadata": {},
   "outputs": [
    {
     "name": "stderr",
     "output_type": "stream",
     "text": [
      "23/08/18 18:31:48 WARN HiveConf: HiveConf of name hive.stats.jdbc.timeout does not exist\n",
      "23/08/18 18:31:48 WARN HiveConf: HiveConf of name hive.stats.retries.wait does not exist\n",
      "23/08/18 18:31:56 WARN ObjectStore: Version information not found in metastore. hive.metastore.schema.verification is not enabled so recording the schema version 2.3.0\n",
      "23/08/18 18:31:56 WARN ObjectStore: setMetaStoreSchemaVersion called but recording version is disabled: version = 2.3.0, comment = Set by MetaStore anshumanr@192.168.20.221\n",
      "23/08/18 18:31:57 WARN SessionState: METASTORE_FILTER_HOOK will be ignored, since hive.security.authorization.manager is set to instance of HiveAuthorizerFactory.\n",
      "23/08/18 18:31:57 WARN HiveConf: HiveConf of name hive.internal.ss.authz.settings.applied.marker does not exist\n",
      "23/08/18 18:31:57 WARN HiveConf: HiveConf of name hive.stats.jdbc.timeout does not exist\n",
      "23/08/18 18:31:57 WARN HiveConf: HiveConf of name hive.stats.retries.wait does not exist\n"
     ]
    },
    {
     "data": {
      "text/plain": [
       "DataFrame[]"
      ]
     },
     "execution_count": 4,
     "metadata": {},
     "output_type": "execute_result"
    }
   ],
   "source": [
    "spark.sql('''create table dentist_visits \n",
    " (name string,\n",
    "  procedure string,\n",
    "  visit_date date,\n",
    "  visit_month int)\n",
    "  using parquet\n",
    "  partitioned by (visit_month);\n",
    "  ''')"
   ]
  },
  {
   "cell_type": "code",
   "execution_count": 5,
   "id": "5083d4a4",
   "metadata": {},
   "outputs": [
    {
     "name": "stderr",
     "output_type": "stream",
     "text": [
      "                                                                                \r"
     ]
    }
   ],
   "source": [
    "df = spark.read.format('csv').options(inferSchema = 'True',header='True',delimiter=',').load('/Users/anshumanr/Documents/Iceberg/dataset/Dentist_visits_with_month_column.csv')"
   ]
  },
  {
   "cell_type": "code",
   "execution_count": 6,
   "id": "ab344b51",
   "metadata": {},
   "outputs": [
    {
     "name": "stderr",
     "output_type": "stream",
     "text": [
      "23/08/18 18:32:07 WARN ObjectStore: Failed to get database global_temp, returning NoSuchObjectException\n",
      "23/08/18 18:32:11 WARN log: Updating partition stats fast for: dentist_visits   \n",
      "23/08/18 18:32:11 WARN log: Updating partition stats fast for: dentist_visits\n",
      "23/08/18 18:32:11 WARN log: Updating partition stats fast for: dentist_visits\n",
      "23/08/18 18:32:11 WARN log: Updated size to 1372\n",
      "23/08/18 18:32:11 WARN log: Updated size to 1494\n",
      "23/08/18 18:32:11 WARN log: Updated size to 1471\n"
     ]
    }
   ],
   "source": [
    "df.write.mode(\"append\").partitionBy(\"visit_month\").saveAsTable(\"dentist_visits\")"
   ]
  },
  {
   "cell_type": "code",
   "execution_count": 22,
   "id": "a446bdf9",
   "metadata": {},
   "outputs": [
    {
     "name": "stdout",
     "output_type": "stream",
     "text": [
      "+---------------+--------------------+----------+-----------+\n",
      "|           name|           procedure|visit_date|visit_month|\n",
      "+---------------+--------------------+----------+-----------+\n",
      "|  Oliver Thomas|Night guard adjus...|2023-10-09|         10|\n",
      "|  Lily Anderson|Tooth whitening f...|2023-10-10|         10|\n",
      "|   James Taylor|Regular checkup f...|2023-10-11|         10|\n",
      "|   Ethan Miller|Wisdom teeth remo...|2023-10-12|         10|\n",
      "|Isabella Wilson|Flossing instruct...|2023-10-13|         10|\n",
      "|     Henry Cook|Toothpaste recomm...|2023-10-14|         10|\n",
      "|   Ava Martinez|Regular checkup f...|2023-10-15|         10|\n",
      "| Noah Hernandez|     X-ray follow-up|2023-10-16|         10|\n",
      "|Benjamin Garcia|Dental sealant fo...|2023-10-17|         10|\n",
      "|   Olivia Perez|Fluoride treatmen...|2023-10-18|         10|\n",
      "+---------------+--------------------+----------+-----------+\n",
      "\n",
      "+---------------+--------------------+----------+-----------+\n",
      "|           name|           procedure|visit_date|visit_month|\n",
      "+---------------+--------------------+----------+-----------+\n",
      "|  Oliver Thomas|Night guard adjus...|2023-10-09|         10|\n",
      "|  Lily Anderson|Tooth whitening f...|2023-10-10|         10|\n",
      "|   James Taylor|Regular checkup f...|2023-10-11|         10|\n",
      "|   Ethan Miller|Wisdom teeth remo...|2023-10-12|         10|\n",
      "|Isabella Wilson|Flossing instruct...|2023-10-13|         10|\n",
      "|     Henry Cook|Toothpaste recomm...|2023-10-14|         10|\n",
      "|   Ava Martinez|Regular checkup f...|2023-10-15|         10|\n",
      "| Noah Hernandez|     X-ray follow-up|2023-10-16|         10|\n",
      "|Benjamin Garcia|Dental sealant fo...|2023-10-17|         10|\n",
      "|   Olivia Perez|Fluoride treatmen...|2023-10-18|         10|\n",
      "+---------------+--------------------+----------+-----------+\n",
      "\n",
      "+---------------+--------------------+----------+-----------+\n",
      "|           name|           procedure|visit_date|visit_month|\n",
      "+---------------+--------------------+----------+-----------+\n",
      "|  Oliver Thomas|Night guard adjus...|2023-10-09|         10|\n",
      "|  Lily Anderson|Tooth whitening f...|2023-10-10|         10|\n",
      "|   James Taylor|Regular checkup f...|2023-10-11|         10|\n",
      "|   Ethan Miller|Wisdom teeth remo...|2023-10-12|         10|\n",
      "|Isabella Wilson|Flossing instruct...|2023-10-13|         10|\n",
      "|     Henry Cook|Toothpaste recomm...|2023-10-14|         10|\n",
      "|   Ava Martinez|Regular checkup f...|2023-10-15|         10|\n",
      "| Noah Hernandez|     X-ray follow-up|2023-10-16|         10|\n",
      "|Benjamin Garcia|Dental sealant fo...|2023-10-17|         10|\n",
      "|   Olivia Perez|Fluoride treatmen...|2023-10-18|         10|\n",
      "+---------------+--------------------+----------+-----------+\n",
      "\n",
      "+---------------+--------------------+----------+-----------+\n",
      "|           name|           procedure|visit_date|visit_month|\n",
      "+---------------+--------------------+----------+-----------+\n",
      "|  Oliver Thomas|Night guard adjus...|2023-10-09|         10|\n",
      "|  Lily Anderson|Tooth whitening f...|2023-10-10|         10|\n",
      "|   James Taylor|Regular checkup f...|2023-10-11|         10|\n",
      "|   Ethan Miller|Wisdom teeth remo...|2023-10-12|         10|\n",
      "|Isabella Wilson|Flossing instruct...|2023-10-13|         10|\n",
      "|     Henry Cook|Toothpaste recomm...|2023-10-14|         10|\n",
      "|   Ava Martinez|Regular checkup f...|2023-10-15|         10|\n",
      "| Noah Hernandez|     X-ray follow-up|2023-10-16|         10|\n",
      "|Benjamin Garcia|Dental sealant fo...|2023-10-17|         10|\n",
      "|   Olivia Perez|Fluoride treatmen...|2023-10-18|         10|\n",
      "+---------------+--------------------+----------+-----------+\n",
      "\n",
      "+---------------+--------------------+----------+-----------+\n",
      "|           name|           procedure|visit_date|visit_month|\n",
      "+---------------+--------------------+----------+-----------+\n",
      "|  Oliver Thomas|Night guard adjus...|2023-10-09|         10|\n",
      "|  Lily Anderson|Tooth whitening f...|2023-10-10|         10|\n",
      "|   James Taylor|Regular checkup f...|2023-10-11|         10|\n",
      "|   Ethan Miller|Wisdom teeth remo...|2023-10-12|         10|\n",
      "|Isabella Wilson|Flossing instruct...|2023-10-13|         10|\n",
      "|     Henry Cook|Toothpaste recomm...|2023-10-14|         10|\n",
      "|   Ava Martinez|Regular checkup f...|2023-10-15|         10|\n",
      "| Noah Hernandez|     X-ray follow-up|2023-10-16|         10|\n",
      "|Benjamin Garcia|Dental sealant fo...|2023-10-17|         10|\n",
      "|   Olivia Perez|Fluoride treatmen...|2023-10-18|         10|\n",
      "+---------------+--------------------+----------+-----------+\n",
      "\n",
      "+---------------+--------------------+----------+-----------+\n",
      "|           name|           procedure|visit_date|visit_month|\n",
      "+---------------+--------------------+----------+-----------+\n",
      "|  Oliver Thomas|Night guard adjus...|2023-10-09|         10|\n",
      "|  Lily Anderson|Tooth whitening f...|2023-10-10|         10|\n",
      "|   James Taylor|Regular checkup f...|2023-10-11|         10|\n",
      "|   Ethan Miller|Wisdom teeth remo...|2023-10-12|         10|\n",
      "|Isabella Wilson|Flossing instruct...|2023-10-13|         10|\n",
      "|     Henry Cook|Toothpaste recomm...|2023-10-14|         10|\n",
      "|   Ava Martinez|Regular checkup f...|2023-10-15|         10|\n",
      "| Noah Hernandez|     X-ray follow-up|2023-10-16|         10|\n",
      "|Benjamin Garcia|Dental sealant fo...|2023-10-17|         10|\n",
      "|   Olivia Perez|Fluoride treatmen...|2023-10-18|         10|\n",
      "+---------------+--------------------+----------+-----------+\n",
      "\n",
      "+---------------+--------------------+----------+-----------+\n",
      "|           name|           procedure|visit_date|visit_month|\n",
      "+---------------+--------------------+----------+-----------+\n",
      "|  Oliver Thomas|Night guard adjus...|2023-10-09|         10|\n",
      "|  Lily Anderson|Tooth whitening f...|2023-10-10|         10|\n",
      "|   James Taylor|Regular checkup f...|2023-10-11|         10|\n",
      "|   Ethan Miller|Wisdom teeth remo...|2023-10-12|         10|\n",
      "|Isabella Wilson|Flossing instruct...|2023-10-13|         10|\n",
      "|     Henry Cook|Toothpaste recomm...|2023-10-14|         10|\n",
      "|   Ava Martinez|Regular checkup f...|2023-10-15|         10|\n",
      "| Noah Hernandez|     X-ray follow-up|2023-10-16|         10|\n",
      "|Benjamin Garcia|Dental sealant fo...|2023-10-17|         10|\n",
      "|   Olivia Perez|Fluoride treatmen...|2023-10-18|         10|\n",
      "+---------------+--------------------+----------+-----------+\n",
      "\n",
      "+---------------+--------------------+----------+-----------+\n",
      "|           name|           procedure|visit_date|visit_month|\n",
      "+---------------+--------------------+----------+-----------+\n",
      "|  Oliver Thomas|Night guard adjus...|2023-10-09|         10|\n",
      "|  Lily Anderson|Tooth whitening f...|2023-10-10|         10|\n",
      "|   James Taylor|Regular checkup f...|2023-10-11|         10|\n",
      "|   Ethan Miller|Wisdom teeth remo...|2023-10-12|         10|\n",
      "|Isabella Wilson|Flossing instruct...|2023-10-13|         10|\n",
      "|     Henry Cook|Toothpaste recomm...|2023-10-14|         10|\n",
      "|   Ava Martinez|Regular checkup f...|2023-10-15|         10|\n",
      "| Noah Hernandez|     X-ray follow-up|2023-10-16|         10|\n",
      "|Benjamin Garcia|Dental sealant fo...|2023-10-17|         10|\n",
      "|   Olivia Perez|Fluoride treatmen...|2023-10-18|         10|\n",
      "+---------------+--------------------+----------+-----------+\n",
      "\n",
      "780 ms ± 109 ms per loop (mean ± std. dev. of 7 runs, 1 loop each)\n"
     ]
    }
   ],
   "source": [
    "%%timeit\n",
    "spark.sql('''select * from dentist_visits\n",
    "where visit_date between '2023-10-01' and '2023-10-31' and visit_month = 10''').show()"
   ]
  },
  {
   "cell_type": "markdown",
   "id": "3b955690",
   "metadata": {},
   "source": [
    "# Creating Iceberg table"
   ]
  },
  {
   "cell_type": "code",
   "execution_count": 8,
   "id": "b8ac7e18",
   "metadata": {},
   "outputs": [
    {
     "data": {
      "text/plain": [
       "DataFrame[]"
      ]
     },
     "execution_count": 8,
     "metadata": {},
     "output_type": "execute_result"
    }
   ],
   "source": [
    "spark.sql('''\n",
    "CREATE TABLE iceberg.db.dentist_visits (\n",
    "  name STRING,\n",
    "  procedure STRING,\n",
    "  visit_date DATE\n",
    ")\n",
    "USING iceberg\n",
    "PARTITIONED BY (MONTHS(visit_date))\n",
    "''')"
   ]
  },
  {
   "cell_type": "code",
   "execution_count": 9,
   "id": "5e3f5a53",
   "metadata": {},
   "outputs": [],
   "source": [
    "df = spark.read.format('csv').options(inferSchema='True',delimeter=',',header='True').load('/Users/anshumanr/Documents/Iceberg/dataset/Dentist_visits_without_month_column.csv')"
   ]
  },
  {
   "cell_type": "code",
   "execution_count": 10,
   "id": "c85116ef",
   "metadata": {},
   "outputs": [
    {
     "name": "stderr",
     "output_type": "stream",
     "text": [
      "                                                                                \r"
     ]
    }
   ],
   "source": [
    "df.write.mode('append').saveAsTable(\"iceberg.db.dentist_visits\")"
   ]
  },
  {
   "cell_type": "code",
   "execution_count": 21,
   "id": "a79237de",
   "metadata": {
    "scrolled": true
   },
   "outputs": [
    {
     "name": "stdout",
     "output_type": "stream",
     "text": [
      "+------------------+--------------------+----------+\n",
      "|              name|           procedure|visit_date|\n",
      "+------------------+--------------------+----------+\n",
      "|  Daniel Rodriguez|      Dental sealant|2023-09-01|\n",
      "|     Nora Martinez|  Fluoride treatment|2023-09-02|\n",
      "|Benjamin Hernandez|Oral hygiene inst...|2023-09-03|\n",
      "|     Olivia Garcia|Toothbrush replac...|2023-09-04|\n",
      "|       Lucas Perez|   Floss replacement|2023-09-05|\n",
      "|         Ava Smith|Toothpaste replac...|2023-09-06|\n",
      "|      Noah Johnson|Mouthwash recomme...|2023-09-07|\n",
      "|   Amelia Williams|Denture cleaning ...|2023-09-08|\n",
      "|     Oliver Thomas|Night guard adjus...|2023-10-09|\n",
      "|     Lily Anderson|Tooth whitening f...|2023-10-10|\n",
      "|      James Taylor|Regular checkup f...|2023-10-11|\n",
      "|      Ethan Miller|Wisdom teeth remo...|2023-10-12|\n",
      "|   Isabella Wilson|Flossing instruct...|2023-10-13|\n",
      "|        Henry Cook|Toothpaste recomm...|2023-10-14|\n",
      "|      Ava Martinez|Regular checkup f...|2023-10-15|\n",
      "|    Noah Hernandez|     X-ray follow-up|2023-10-16|\n",
      "|   Benjamin Garcia|Dental sealant fo...|2023-10-17|\n",
      "|      Olivia Perez|Fluoride treatmen...|2023-10-18|\n",
      "+------------------+--------------------+----------+\n",
      "\n",
      "+------------------+--------------------+----------+\n",
      "|              name|           procedure|visit_date|\n",
      "+------------------+--------------------+----------+\n",
      "|  Daniel Rodriguez|      Dental sealant|2023-09-01|\n",
      "|     Nora Martinez|  Fluoride treatment|2023-09-02|\n",
      "|Benjamin Hernandez|Oral hygiene inst...|2023-09-03|\n",
      "|     Olivia Garcia|Toothbrush replac...|2023-09-04|\n",
      "|       Lucas Perez|   Floss replacement|2023-09-05|\n",
      "|         Ava Smith|Toothpaste replac...|2023-09-06|\n",
      "|      Noah Johnson|Mouthwash recomme...|2023-09-07|\n",
      "|   Amelia Williams|Denture cleaning ...|2023-09-08|\n",
      "|     Oliver Thomas|Night guard adjus...|2023-10-09|\n",
      "|     Lily Anderson|Tooth whitening f...|2023-10-10|\n",
      "|      James Taylor|Regular checkup f...|2023-10-11|\n",
      "|      Ethan Miller|Wisdom teeth remo...|2023-10-12|\n",
      "|   Isabella Wilson|Flossing instruct...|2023-10-13|\n",
      "|        Henry Cook|Toothpaste recomm...|2023-10-14|\n",
      "|      Ava Martinez|Regular checkup f...|2023-10-15|\n",
      "|    Noah Hernandez|     X-ray follow-up|2023-10-16|\n",
      "|   Benjamin Garcia|Dental sealant fo...|2023-10-17|\n",
      "|      Olivia Perez|Fluoride treatmen...|2023-10-18|\n",
      "+------------------+--------------------+----------+\n",
      "\n",
      "+------------------+--------------------+----------+\n",
      "|              name|           procedure|visit_date|\n",
      "+------------------+--------------------+----------+\n",
      "|  Daniel Rodriguez|      Dental sealant|2023-09-01|\n",
      "|     Nora Martinez|  Fluoride treatment|2023-09-02|\n",
      "|Benjamin Hernandez|Oral hygiene inst...|2023-09-03|\n",
      "|     Olivia Garcia|Toothbrush replac...|2023-09-04|\n",
      "|       Lucas Perez|   Floss replacement|2023-09-05|\n",
      "|         Ava Smith|Toothpaste replac...|2023-09-06|\n",
      "|      Noah Johnson|Mouthwash recomme...|2023-09-07|\n",
      "|   Amelia Williams|Denture cleaning ...|2023-09-08|\n",
      "|     Oliver Thomas|Night guard adjus...|2023-10-09|\n",
      "|     Lily Anderson|Tooth whitening f...|2023-10-10|\n",
      "|      James Taylor|Regular checkup f...|2023-10-11|\n",
      "|      Ethan Miller|Wisdom teeth remo...|2023-10-12|\n",
      "|   Isabella Wilson|Flossing instruct...|2023-10-13|\n",
      "|        Henry Cook|Toothpaste recomm...|2023-10-14|\n",
      "|      Ava Martinez|Regular checkup f...|2023-10-15|\n",
      "|    Noah Hernandez|     X-ray follow-up|2023-10-16|\n",
      "|   Benjamin Garcia|Dental sealant fo...|2023-10-17|\n",
      "|      Olivia Perez|Fluoride treatmen...|2023-10-18|\n",
      "+------------------+--------------------+----------+\n",
      "\n",
      "+------------------+--------------------+----------+\n",
      "|              name|           procedure|visit_date|\n",
      "+------------------+--------------------+----------+\n",
      "|  Daniel Rodriguez|      Dental sealant|2023-09-01|\n",
      "|     Nora Martinez|  Fluoride treatment|2023-09-02|\n",
      "|Benjamin Hernandez|Oral hygiene inst...|2023-09-03|\n",
      "|     Olivia Garcia|Toothbrush replac...|2023-09-04|\n",
      "|       Lucas Perez|   Floss replacement|2023-09-05|\n",
      "|         Ava Smith|Toothpaste replac...|2023-09-06|\n",
      "|      Noah Johnson|Mouthwash recomme...|2023-09-07|\n",
      "|   Amelia Williams|Denture cleaning ...|2023-09-08|\n",
      "|     Oliver Thomas|Night guard adjus...|2023-10-09|\n",
      "|     Lily Anderson|Tooth whitening f...|2023-10-10|\n",
      "|      James Taylor|Regular checkup f...|2023-10-11|\n",
      "|      Ethan Miller|Wisdom teeth remo...|2023-10-12|\n",
      "|   Isabella Wilson|Flossing instruct...|2023-10-13|\n",
      "|        Henry Cook|Toothpaste recomm...|2023-10-14|\n",
      "|      Ava Martinez|Regular checkup f...|2023-10-15|\n",
      "|    Noah Hernandez|     X-ray follow-up|2023-10-16|\n",
      "|   Benjamin Garcia|Dental sealant fo...|2023-10-17|\n",
      "|      Olivia Perez|Fluoride treatmen...|2023-10-18|\n",
      "+------------------+--------------------+----------+\n",
      "\n",
      "+------------------+--------------------+----------+\n",
      "|              name|           procedure|visit_date|\n",
      "+------------------+--------------------+----------+\n",
      "|  Daniel Rodriguez|      Dental sealant|2023-09-01|\n",
      "|     Nora Martinez|  Fluoride treatment|2023-09-02|\n",
      "|Benjamin Hernandez|Oral hygiene inst...|2023-09-03|\n",
      "|     Olivia Garcia|Toothbrush replac...|2023-09-04|\n",
      "|       Lucas Perez|   Floss replacement|2023-09-05|\n",
      "|         Ava Smith|Toothpaste replac...|2023-09-06|\n",
      "|      Noah Johnson|Mouthwash recomme...|2023-09-07|\n",
      "|   Amelia Williams|Denture cleaning ...|2023-09-08|\n",
      "|     Oliver Thomas|Night guard adjus...|2023-10-09|\n",
      "|     Lily Anderson|Tooth whitening f...|2023-10-10|\n",
      "|      James Taylor|Regular checkup f...|2023-10-11|\n",
      "|      Ethan Miller|Wisdom teeth remo...|2023-10-12|\n",
      "|   Isabella Wilson|Flossing instruct...|2023-10-13|\n",
      "|        Henry Cook|Toothpaste recomm...|2023-10-14|\n",
      "|      Ava Martinez|Regular checkup f...|2023-10-15|\n",
      "|    Noah Hernandez|     X-ray follow-up|2023-10-16|\n",
      "|   Benjamin Garcia|Dental sealant fo...|2023-10-17|\n",
      "|      Olivia Perez|Fluoride treatmen...|2023-10-18|\n",
      "+------------------+--------------------+----------+\n",
      "\n",
      "+------------------+--------------------+----------+\n",
      "|              name|           procedure|visit_date|\n",
      "+------------------+--------------------+----------+\n",
      "|  Daniel Rodriguez|      Dental sealant|2023-09-01|\n",
      "|     Nora Martinez|  Fluoride treatment|2023-09-02|\n",
      "|Benjamin Hernandez|Oral hygiene inst...|2023-09-03|\n",
      "|     Olivia Garcia|Toothbrush replac...|2023-09-04|\n",
      "|       Lucas Perez|   Floss replacement|2023-09-05|\n",
      "|         Ava Smith|Toothpaste replac...|2023-09-06|\n",
      "|      Noah Johnson|Mouthwash recomme...|2023-09-07|\n",
      "|   Amelia Williams|Denture cleaning ...|2023-09-08|\n",
      "|     Oliver Thomas|Night guard adjus...|2023-10-09|\n",
      "|     Lily Anderson|Tooth whitening f...|2023-10-10|\n",
      "|      James Taylor|Regular checkup f...|2023-10-11|\n",
      "|      Ethan Miller|Wisdom teeth remo...|2023-10-12|\n",
      "|   Isabella Wilson|Flossing instruct...|2023-10-13|\n",
      "|        Henry Cook|Toothpaste recomm...|2023-10-14|\n",
      "|      Ava Martinez|Regular checkup f...|2023-10-15|\n",
      "|    Noah Hernandez|     X-ray follow-up|2023-10-16|\n",
      "|   Benjamin Garcia|Dental sealant fo...|2023-10-17|\n",
      "|      Olivia Perez|Fluoride treatmen...|2023-10-18|\n",
      "+------------------+--------------------+----------+\n",
      "\n",
      "+------------------+--------------------+----------+\n",
      "|              name|           procedure|visit_date|\n",
      "+------------------+--------------------+----------+\n",
      "|  Daniel Rodriguez|      Dental sealant|2023-09-01|\n",
      "|     Nora Martinez|  Fluoride treatment|2023-09-02|\n",
      "|Benjamin Hernandez|Oral hygiene inst...|2023-09-03|\n",
      "|     Olivia Garcia|Toothbrush replac...|2023-09-04|\n",
      "|       Lucas Perez|   Floss replacement|2023-09-05|\n",
      "|         Ava Smith|Toothpaste replac...|2023-09-06|\n",
      "|      Noah Johnson|Mouthwash recomme...|2023-09-07|\n",
      "|   Amelia Williams|Denture cleaning ...|2023-09-08|\n",
      "|     Oliver Thomas|Night guard adjus...|2023-10-09|\n",
      "|     Lily Anderson|Tooth whitening f...|2023-10-10|\n",
      "|      James Taylor|Regular checkup f...|2023-10-11|\n",
      "|      Ethan Miller|Wisdom teeth remo...|2023-10-12|\n",
      "|   Isabella Wilson|Flossing instruct...|2023-10-13|\n",
      "|        Henry Cook|Toothpaste recomm...|2023-10-14|\n",
      "|      Ava Martinez|Regular checkup f...|2023-10-15|\n",
      "|    Noah Hernandez|     X-ray follow-up|2023-10-16|\n",
      "|   Benjamin Garcia|Dental sealant fo...|2023-10-17|\n",
      "|      Olivia Perez|Fluoride treatmen...|2023-10-18|\n",
      "+------------------+--------------------+----------+\n",
      "\n",
      "+------------------+--------------------+----------+\n",
      "|              name|           procedure|visit_date|\n",
      "+------------------+--------------------+----------+\n",
      "|  Daniel Rodriguez|      Dental sealant|2023-09-01|\n",
      "|     Nora Martinez|  Fluoride treatment|2023-09-02|\n",
      "|Benjamin Hernandez|Oral hygiene inst...|2023-09-03|\n",
      "|     Olivia Garcia|Toothbrush replac...|2023-09-04|\n",
      "|       Lucas Perez|   Floss replacement|2023-09-05|\n",
      "|         Ava Smith|Toothpaste replac...|2023-09-06|\n",
      "|      Noah Johnson|Mouthwash recomme...|2023-09-07|\n",
      "|   Amelia Williams|Denture cleaning ...|2023-09-08|\n",
      "|     Oliver Thomas|Night guard adjus...|2023-10-09|\n",
      "|     Lily Anderson|Tooth whitening f...|2023-10-10|\n",
      "|      James Taylor|Regular checkup f...|2023-10-11|\n",
      "|      Ethan Miller|Wisdom teeth remo...|2023-10-12|\n",
      "|   Isabella Wilson|Flossing instruct...|2023-10-13|\n",
      "|        Henry Cook|Toothpaste recomm...|2023-10-14|\n",
      "|      Ava Martinez|Regular checkup f...|2023-10-15|\n",
      "|    Noah Hernandez|     X-ray follow-up|2023-10-16|\n",
      "|   Benjamin Garcia|Dental sealant fo...|2023-10-17|\n",
      "|      Olivia Perez|Fluoride treatmen...|2023-10-18|\n",
      "+------------------+--------------------+----------+\n",
      "\n",
      "653 ms ± 34.7 ms per loop (mean ± std. dev. of 7 runs, 1 loop each)\n"
     ]
    }
   ],
   "source": [
    "%%timeit\n",
    "spark.sql(\" Select * from iceberg.db.dentist_visits where visit_date between '2023-09-01' and '2023-10-31'\").show()"
   ]
  },
  {
   "cell_type": "code",
   "execution_count": null,
   "id": "236721ea",
   "metadata": {},
   "outputs": [],
   "source": []
  },
  {
   "cell_type": "code",
   "execution_count": null,
   "id": "edd2b057",
   "metadata": {},
   "outputs": [],
   "source": []
  },
  {
   "cell_type": "code",
   "execution_count": null,
   "id": "0e0f8f66",
   "metadata": {},
   "outputs": [],
   "source": []
  },
  {
   "cell_type": "code",
   "execution_count": null,
   "id": "0460a386",
   "metadata": {},
   "outputs": [],
   "source": []
  },
  {
   "cell_type": "code",
   "execution_count": null,
   "id": "97a5f81c",
   "metadata": {},
   "outputs": [],
   "source": []
  }
 ],
 "metadata": {
  "kernelspec": {
   "display_name": "Python 3 (ipykernel)",
   "language": "python",
   "name": "python3"
  },
  "language_info": {
   "codemirror_mode": {
    "name": "ipython",
    "version": 3
   },
   "file_extension": ".py",
   "mimetype": "text/x-python",
   "name": "python",
   "nbconvert_exporter": "python",
   "pygments_lexer": "ipython3",
   "version": "3.9.16"
  }
 },
 "nbformat": 4,
 "nbformat_minor": 5
}
