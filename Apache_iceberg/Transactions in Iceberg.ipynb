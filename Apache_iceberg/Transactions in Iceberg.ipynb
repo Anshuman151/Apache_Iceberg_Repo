{
 "cells": [
  {
   "cell_type": "code",
   "execution_count": 1,
   "id": "f9d608ac",
   "metadata": {},
   "outputs": [],
   "source": [
    "import os\n",
    "import pyspark\n",
    "from pyspark.sql import SparkSession"
   ]
  },
  {
   "cell_type": "code",
   "execution_count": 2,
   "id": "87e785a6",
   "metadata": {},
   "outputs": [],
   "source": [
    "conf = (\n",
    "    pyspark.SparkConf()\n",
    "        .setAppName('app_name')\n",
    "  \t\t#packages\n",
    "        .set('spark.jars.packages', 'org.apache.iceberg:iceberg-spark-runtime-3.4_2.12:1.3.1,software.amazon.awssdk:bundle:2.17.178,software.amazon.awssdk:url-connection-client:2.17.178')\n",
    "  \t\t#SQL Extensions\n",
    "        .set('spark.sql.extensions', 'org.apache.iceberg.spark.extensions.IcebergSparkSessionExtensions')\n",
    "  \t\t#Configuring Catalog\n",
    "        .set('spark.sql.catalog.spark_catalog','org.apache.iceberg.spark.SparkSessionCatalog')\n",
    "        .set('spark.sql.catalog.spark_catalog.type','hive')\n",
    "        .set('spark.sql.catalog.iceberg', 'org.apache.iceberg.spark.SparkCatalog')\n",
    "        .set('spark.sql.catalog.iceberg.type', 'hadoop')\n",
    "        .set('spark.sql.catalog.iceberg.warehouse', 'iceberg-warehouse')\n",
    ")"
   ]
  },
  {
   "cell_type": "code",
   "execution_count": 3,
   "id": "981f3af8",
   "metadata": {},
   "outputs": [
    {
     "name": "stdout",
     "output_type": "stream",
     "text": [
      ":: loading settings :: url = jar:file:/opt/anaconda3/lib/python3.9/site-packages/pyspark/jars/ivy-2.5.1.jar!/org/apache/ivy/core/settings/ivysettings.xml\n"
     ]
    },
    {
     "name": "stderr",
     "output_type": "stream",
     "text": [
      "Ivy Default Cache set to: /Users/anshumanr/.ivy2/cache\n",
      "The jars for the packages stored in: /Users/anshumanr/.ivy2/jars\n",
      "org.apache.iceberg#iceberg-spark-runtime-3.4_2.12 added as a dependency\n",
      "software.amazon.awssdk#bundle added as a dependency\n",
      "software.amazon.awssdk#url-connection-client added as a dependency\n",
      ":: resolving dependencies :: org.apache.spark#spark-submit-parent-7b770733-d415-42d1-bfac-430c103995bd;1.0\n",
      "\tconfs: [default]\n",
      "\tfound org.apache.iceberg#iceberg-spark-runtime-3.4_2.12;1.3.1 in central\n",
      "\tfound software.amazon.awssdk#bundle;2.17.178 in central\n",
      "\tfound software.amazon.eventstream#eventstream;1.0.1 in central\n",
      "\tfound software.amazon.awssdk#url-connection-client;2.17.178 in central\n",
      "\tfound software.amazon.awssdk#utils;2.17.178 in central\n",
      "\tfound org.reactivestreams#reactive-streams;1.0.3 in central\n",
      "\tfound software.amazon.awssdk#annotations;2.17.178 in central\n",
      "\tfound org.slf4j#slf4j-api;1.7.30 in local-m2-cache\n",
      "\tfound software.amazon.awssdk#http-client-spi;2.17.178 in central\n",
      "\tfound software.amazon.awssdk#metrics-spi;2.17.178 in central\n",
      ":: resolution report :: resolve 858ms :: artifacts dl 72ms\n",
      "\t:: modules in use:\n",
      "\torg.apache.iceberg#iceberg-spark-runtime-3.4_2.12;1.3.1 from central in [default]\n",
      "\torg.reactivestreams#reactive-streams;1.0.3 from central in [default]\n",
      "\torg.slf4j#slf4j-api;1.7.30 from local-m2-cache in [default]\n",
      "\tsoftware.amazon.awssdk#annotations;2.17.178 from central in [default]\n",
      "\tsoftware.amazon.awssdk#bundle;2.17.178 from central in [default]\n",
      "\tsoftware.amazon.awssdk#http-client-spi;2.17.178 from central in [default]\n",
      "\tsoftware.amazon.awssdk#metrics-spi;2.17.178 from central in [default]\n",
      "\tsoftware.amazon.awssdk#url-connection-client;2.17.178 from central in [default]\n",
      "\tsoftware.amazon.awssdk#utils;2.17.178 from central in [default]\n",
      "\tsoftware.amazon.eventstream#eventstream;1.0.1 from central in [default]\n",
      "\t---------------------------------------------------------------------\n",
      "\t|                  |            modules            ||   artifacts   |\n",
      "\t|       conf       | number| search|dwnlded|evicted|| number|dwnlded|\n",
      "\t---------------------------------------------------------------------\n",
      "\t|      default     |   10  |   0   |   0   |   0   ||   10  |   0   |\n",
      "\t---------------------------------------------------------------------\n",
      ":: retrieving :: org.apache.spark#spark-submit-parent-7b770733-d415-42d1-bfac-430c103995bd\n",
      "\tconfs: [default]\n",
      "\t0 artifacts copied, 10 already retrieved (0kB/16ms)\n",
      "23/08/16 16:48:37 WARN NativeCodeLoader: Unable to load native-hadoop library for your platform... using builtin-java classes where applicable\n",
      "Setting default log level to \"WARN\".\n",
      "To adjust logging level use sc.setLogLevel(newLevel). For SparkR, use setLogLevel(newLevel).\n"
     ]
    },
    {
     "name": "stdout",
     "output_type": "stream",
     "text": [
      "Spark Running\n"
     ]
    }
   ],
   "source": [
    "## Start Spark Session\n",
    "spark = SparkSession.builder.config(conf=conf).getOrCreate()\n",
    "print(\"Spark Running\")"
   ]
  },
  {
   "cell_type": "code",
   "execution_count": 24,
   "id": "94c4c7e5",
   "metadata": {},
   "outputs": [
    {
     "name": "stdout",
     "output_type": "stream",
     "text": [
      "++\n",
      "||\n",
      "++\n",
      "++\n",
      "\n"
     ]
    }
   ],
   "source": [
    "spark.sql(\"Create table iceberg.db.tab1(order_id integer,customer_id integer,order_amount double,order_ts timestamp,hour_ts integer) using iceberg partitioned by (hour_ts);\").show()"
   ]
  },
  {
   "cell_type": "code",
   "execution_count": 25,
   "id": "f13f8650",
   "metadata": {},
   "outputs": [
    {
     "name": "stderr",
     "output_type": "stream",
     "text": [
      "                                                                                \r"
     ]
    },
    {
     "data": {
      "text/plain": [
       "DataFrame[]"
      ]
     },
     "execution_count": 25,
     "metadata": {},
     "output_type": "execute_result"
    }
   ],
   "source": [
    "spark.sql('''INSERT INTO iceberg.db.tab1 (order_id, customer_id, order_amount, order_ts, hour_ts)\n",
    "VALUES\n",
    "  (1, 101, 50.0, Timestamp('2023-08-16 10:15:00'), 10),\n",
    "  (2, 102, 75.0, Timestamp('2023-08-16 11:30:00'), 11),\n",
    "  (3, 103, 100.0, Timestamp('2023-08-16 12:45:00'), 12),\n",
    "  (4, 104, 25.0, timestamp('2023-08-16 13:15:00'), 13),\n",
    "  (5, 105, 150.0, timestamp('2023-08-16 14:30:00'), 14),\n",
    "  (6, 106, 200.0, timestamp('2023-08-16 15:45:00'), 15),\n",
    "  (7, 107, 70.0, timestamp('2023-08-16 16:00:00'), 16),\n",
    "  (8, 108, 80.0, timestamp('2023-08-16 17:15:00'), 17),\n",
    "  (9, 109, 120.0, timestamp('2023-08-16 18:30:00'), 18),\n",
    "  (10, 110, 90.0, timestamp('2023-08-16 19:45:00'), 19),\n",
    "  (11, 111, 200.0, timestamp('2023-08-16 10:30:00'), 10),\n",
    "  (12, 112, 40.0, timestamp('2023-08-16 11:45:00'), 11),\n",
    "  (13, 113, 60.0, timestamp('2023-08-16 12:00:00'), 12),\n",
    "  (14, 114, 175.0, timestamp('2023-08-16 13:15:00'), 13),\n",
    "  (15, 115, 90.0, timestamp('2023-08-16 14:30:00'), 14),\n",
    "  (16, 116, 300.0, timestamp('2023-08-16 15:45:00'), 15),\n",
    "  (17, 117, 50.0, timestamp('2023-08-16 16:00:00'), 16),\n",
    "  (18, 118, 225.0, timestamp('2023-08-16 17:15:00'), 17),\n",
    "  (19, 119, 30.0, timestamp('2023-08-16 18:30:00'), 18),\n",
    "  (20, 120, 150.0, timestamp('2023-08-16 19:45:00'), 19);\n",
    "''')"
   ]
  },
  {
   "cell_type": "code",
   "execution_count": 27,
   "id": "12198c53",
   "metadata": {},
   "outputs": [
    {
     "name": "stdout",
     "output_type": "stream",
     "text": [
      "+--------+-----------+------------+-------------------+-------+\n",
      "|order_id|customer_id|order_amount|           order_ts|hour_ts|\n",
      "+--------+-----------+------------+-------------------+-------+\n",
      "|       1|        101|        50.0|2023-08-16 10:15:00|     10|\n",
      "|      11|        111|       200.0|2023-08-16 10:30:00|     10|\n",
      "|       2|        102|        75.0|2023-08-16 11:30:00|     11|\n",
      "|      12|        112|        40.0|2023-08-16 11:45:00|     11|\n",
      "|       3|        103|       100.0|2023-08-16 12:45:00|     12|\n",
      "|      13|        113|        60.0|2023-08-16 12:00:00|     12|\n",
      "|       4|        104|        25.0|2023-08-16 13:15:00|     13|\n",
      "|      14|        114|       175.0|2023-08-16 13:15:00|     13|\n",
      "|       5|        105|       150.0|2023-08-16 14:30:00|     14|\n",
      "|      15|        115|        90.0|2023-08-16 14:30:00|     14|\n",
      "|       6|        106|       200.0|2023-08-16 15:45:00|     15|\n",
      "|      16|        116|       300.0|2023-08-16 15:45:00|     15|\n",
      "|       7|        107|        70.0|2023-08-16 16:00:00|     16|\n",
      "|      17|        117|        50.0|2023-08-16 16:00:00|     16|\n",
      "|       8|        108|        80.0|2023-08-16 17:15:00|     17|\n",
      "|      18|        118|       225.0|2023-08-16 17:15:00|     17|\n",
      "|       9|        109|       120.0|2023-08-16 18:30:00|     18|\n",
      "|      19|        119|        30.0|2023-08-16 18:30:00|     18|\n",
      "|      10|        110|        90.0|2023-08-16 19:45:00|     19|\n",
      "|      20|        120|       150.0|2023-08-16 19:45:00|     19|\n",
      "+--------+-----------+------------+-------------------+-------+\n",
      "\n"
     ]
    }
   ],
   "source": [
    "spark.sql(\"select * from iceberg.db.tab1\").show()"
   ]
  },
  {
   "cell_type": "code",
   "execution_count": 28,
   "id": "363ff861",
   "metadata": {},
   "outputs": [
    {
     "name": "stdout",
     "output_type": "stream",
     "text": [
      "++\n",
      "||\n",
      "++\n",
      "++\n",
      "\n"
     ]
    }
   ],
   "source": [
    "spark.sql(\"Create table iceberg.db.tab2(order_id integer,customer_id integer,order_amount double,order_ts timestamp,hour_ts integer) using iceberg partitioned by (hour_ts);\").show()"
   ]
  },
  {
   "cell_type": "code",
   "execution_count": 29,
   "id": "552b2d94",
   "metadata": {},
   "outputs": [
    {
     "name": "stderr",
     "output_type": "stream",
     "text": [
      "                                                                                \r"
     ]
    },
    {
     "data": {
      "text/plain": [
       "DataFrame[]"
      ]
     },
     "execution_count": 29,
     "metadata": {},
     "output_type": "execute_result"
    }
   ],
   "source": [
    "spark.sql('''INSERT INTO iceberg.db.tab2 (order_id, customer_id, order_amount, order_ts, hour_ts)\n",
    "VALUES\n",
    "  (21, 101, 50.0, Timestamp('2023-08-16 10:15:00'), 10),\n",
    "  (2, 102, 75.5, Timestamp('2023-08-16 11:30:00'), 11),\n",
    "  (9, 103, 100.1, Timestamp('2023-08-16 12:45:00'), 12),\n",
    "  (4, 104, 25.4, timestamp('2023-08-16 13:15:00'), 13),\n",
    "  (1, 105, 150.9, timestamp('2023-08-16 14:30:00'), 14),\n",
    "  (6, 106, 200.8, timestamp('2023-08-16 15:45:00'), 15),\n",
    "  (27, 107, 70.0, timestamp('2023-08-16 16:00:00'), 16),\n",
    "  (28, 108, 80.0, timestamp('2023-08-16 17:15:00'), 17),\n",
    "  (29, 109, 120.0, timestamp('2023-08-16 18:30:00'), 18),\n",
    "  (22, 110, 90.0, timestamp('2023-08-16 19:45:00'), 19),\n",
    "  (31, 111, 200.0, timestamp('2023-08-16 10:30:00'), 10),\n",
    "  (32, 112, 40.0, timestamp('2023-08-16 11:45:00'), 11),\n",
    "  (23, 113, 60.0, timestamp('2023-08-16 12:00:00'), 12),\n",
    "  (14, 114, 175.0, timestamp('2023-08-16 13:15:00'), 13),\n",
    "  (35, 115, 90.0, timestamp('2023-08-16 14:30:00'), 14),\n",
    "  (36, 116, 300.0, timestamp('2023-08-16 15:45:00'), 15),\n",
    "  (37, 117, 50.0, timestamp('2023-08-16 16:00:00'), 16),\n",
    "  (18, 118, 225.0, timestamp('2023-08-16 17:15:00'), 17),\n",
    "  (49, 119, 30.0, timestamp('2023-08-16 18:30:00'), 18),\n",
    "  (20, 120, 150.5, timestamp('2023-08-16 19:45:00'), 19);\n",
    "''')"
   ]
  },
  {
   "cell_type": "code",
   "execution_count": 30,
   "id": "cb0c69d6",
   "metadata": {},
   "outputs": [
    {
     "name": "stdout",
     "output_type": "stream",
     "text": [
      "+--------+-----------+------------+-------------------+-------+\n",
      "|order_id|customer_id|order_amount|           order_ts|hour_ts|\n",
      "+--------+-----------+------------+-------------------+-------+\n",
      "|      21|        101|        50.0|2023-08-16 10:15:00|     10|\n",
      "|      31|        111|       200.0|2023-08-16 10:30:00|     10|\n",
      "|       2|        102|        75.5|2023-08-16 11:30:00|     11|\n",
      "|      32|        112|        40.0|2023-08-16 11:45:00|     11|\n",
      "|       9|        103|       100.1|2023-08-16 12:45:00|     12|\n",
      "|      23|        113|        60.0|2023-08-16 12:00:00|     12|\n",
      "|       4|        104|        25.4|2023-08-16 13:15:00|     13|\n",
      "|      14|        114|       175.0|2023-08-16 13:15:00|     13|\n",
      "|       1|        105|       150.9|2023-08-16 14:30:00|     14|\n",
      "|      35|        115|        90.0|2023-08-16 14:30:00|     14|\n",
      "|       6|        106|       200.8|2023-08-16 15:45:00|     15|\n",
      "|      36|        116|       300.0|2023-08-16 15:45:00|     15|\n",
      "|      27|        107|        70.0|2023-08-16 16:00:00|     16|\n",
      "|      37|        117|        50.0|2023-08-16 16:00:00|     16|\n",
      "|      28|        108|        80.0|2023-08-16 17:15:00|     17|\n",
      "|      18|        118|       225.0|2023-08-16 17:15:00|     17|\n",
      "|      29|        109|       120.0|2023-08-16 18:30:00|     18|\n",
      "|      49|        119|        30.0|2023-08-16 18:30:00|     18|\n",
      "|      22|        110|        90.0|2023-08-16 19:45:00|     19|\n",
      "|      20|        120|       150.5|2023-08-16 19:45:00|     19|\n",
      "+--------+-----------+------------+-------------------+-------+\n",
      "\n"
     ]
    }
   ],
   "source": [
    "spark.sql(\"select * from iceberg.db.tab2\").show()"
   ]
  },
  {
   "cell_type": "code",
   "execution_count": 31,
   "id": "0b649e4c",
   "metadata": {},
   "outputs": [
    {
     "name": "stderr",
     "output_type": "stream",
     "text": [
      "                                                                                \r"
     ]
    },
    {
     "data": {
      "text/plain": [
       "DataFrame[]"
      ]
     },
     "execution_count": 31,
     "metadata": {},
     "output_type": "execute_result"
    }
   ],
   "source": [
    "spark.sql('''Merge into iceberg.db.tab1\n",
    "using (select * from iceberg.db.tab2) t \n",
    "on iceberg.db.tab1.order_id = t.order_id\n",
    "when matched then update set iceberg.db.tab1.order_amount = t.order_amount\n",
    "when not matched then insert *\n",
    "''')"
   ]
  },
  {
   "cell_type": "code",
   "execution_count": 32,
   "id": "04cf6d7b",
   "metadata": {},
   "outputs": [
    {
     "name": "stdout",
     "output_type": "stream",
     "text": [
      "+--------+-----------+------------+-------------------+-------+\n",
      "|order_id|customer_id|order_amount|           order_ts|hour_ts|\n",
      "+--------+-----------+------------+-------------------+-------+\n",
      "|       1|        101|       150.9|2023-08-16 10:15:00|     10|\n",
      "|      11|        111|       200.0|2023-08-16 10:30:00|     10|\n",
      "|      21|        101|        50.0|2023-08-16 10:15:00|     10|\n",
      "|      31|        111|       200.0|2023-08-16 10:30:00|     10|\n",
      "|       2|        102|        75.5|2023-08-16 11:30:00|     11|\n",
      "|      12|        112|        40.0|2023-08-16 11:45:00|     11|\n",
      "|      32|        112|        40.0|2023-08-16 11:45:00|     11|\n",
      "|      23|        113|        60.0|2023-08-16 12:00:00|     12|\n",
      "|       3|        103|       100.0|2023-08-16 12:45:00|     12|\n",
      "|      13|        113|        60.0|2023-08-16 12:00:00|     12|\n",
      "|       4|        104|        25.4|2023-08-16 13:15:00|     13|\n",
      "|      14|        114|       175.0|2023-08-16 13:15:00|     13|\n",
      "|       5|        105|       150.0|2023-08-16 14:30:00|     14|\n",
      "|      15|        115|        90.0|2023-08-16 14:30:00|     14|\n",
      "|      35|        115|        90.0|2023-08-16 14:30:00|     14|\n",
      "|       6|        106|       200.8|2023-08-16 15:45:00|     15|\n",
      "|      16|        116|       300.0|2023-08-16 15:45:00|     15|\n",
      "|      36|        116|       300.0|2023-08-16 15:45:00|     15|\n",
      "|       7|        107|        70.0|2023-08-16 16:00:00|     16|\n",
      "|      17|        117|        50.0|2023-08-16 16:00:00|     16|\n",
      "|      27|        107|        70.0|2023-08-16 16:00:00|     16|\n",
      "|      37|        117|        50.0|2023-08-16 16:00:00|     16|\n",
      "|       8|        108|        80.0|2023-08-16 17:15:00|     17|\n",
      "|      18|        118|       225.0|2023-08-16 17:15:00|     17|\n",
      "|      28|        108|        80.0|2023-08-16 17:15:00|     17|\n",
      "|       9|        109|       100.1|2023-08-16 18:30:00|     18|\n",
      "|      19|        119|        30.0|2023-08-16 18:30:00|     18|\n",
      "|      29|        109|       120.0|2023-08-16 18:30:00|     18|\n",
      "|      49|        119|        30.0|2023-08-16 18:30:00|     18|\n",
      "|      10|        110|        90.0|2023-08-16 19:45:00|     19|\n",
      "|      20|        120|       150.5|2023-08-16 19:45:00|     19|\n",
      "|      22|        110|        90.0|2023-08-16 19:45:00|     19|\n",
      "+--------+-----------+------------+-------------------+-------+\n",
      "\n"
     ]
    }
   ],
   "source": [
    "spark.sql(\"select * from iceberg.db.tab1\").show(50)"
   ]
  },
  {
   "cell_type": "markdown",
   "id": "d50a83ee",
   "metadata": {},
   "source": [
    "# Time Traveling using snapshot-id"
   ]
  },
  {
   "cell_type": "code",
   "execution_count": 47,
   "id": "f85581a7",
   "metadata": {},
   "outputs": [
    {
     "name": "stdout",
     "output_type": "stream",
     "text": [
      "+--------+-----------+------------+-------------------+-------+\n",
      "|order_id|customer_id|order_amount|           order_ts|hour_ts|\n",
      "+--------+-----------+------------+-------------------+-------+\n",
      "|       1|        101|        50.0|2023-08-16 10:15:00|     10|\n",
      "|      11|        111|       200.0|2023-08-16 10:30:00|     10|\n",
      "|       2|        102|        75.0|2023-08-16 11:30:00|     11|\n",
      "|      12|        112|        40.0|2023-08-16 11:45:00|     11|\n",
      "|       3|        103|       100.0|2023-08-16 12:45:00|     12|\n",
      "|      13|        113|        60.0|2023-08-16 12:00:00|     12|\n",
      "|       4|        104|        25.0|2023-08-16 13:15:00|     13|\n",
      "|      14|        114|       175.0|2023-08-16 13:15:00|     13|\n",
      "|       5|        105|       150.0|2023-08-16 14:30:00|     14|\n",
      "|      15|        115|        90.0|2023-08-16 14:30:00|     14|\n",
      "|       6|        106|       200.0|2023-08-16 15:45:00|     15|\n",
      "|      16|        116|       300.0|2023-08-16 15:45:00|     15|\n",
      "|       7|        107|        70.0|2023-08-16 16:00:00|     16|\n",
      "|      17|        117|        50.0|2023-08-16 16:00:00|     16|\n",
      "|       8|        108|        80.0|2023-08-16 17:15:00|     17|\n",
      "|      18|        118|       225.0|2023-08-16 17:15:00|     17|\n",
      "|       9|        109|       120.0|2023-08-16 18:30:00|     18|\n",
      "|      19|        119|        30.0|2023-08-16 18:30:00|     18|\n",
      "|      10|        110|        90.0|2023-08-16 19:45:00|     19|\n",
      "|      20|        120|       150.0|2023-08-16 19:45:00|     19|\n",
      "+--------+-----------+------------+-------------------+-------+\n",
      "\n"
     ]
    }
   ],
   "source": [
    "spark.sql(\"select * from iceberg.db.tab1 Version AS OF '7800989837212063210'\").show()"
   ]
  },
  {
   "cell_type": "markdown",
   "id": "572dd38c",
   "metadata": {},
   "source": [
    "# Time traveling using Timestamp"
   ]
  },
  {
   "cell_type": "code",
   "execution_count": 60,
   "id": "0ae6d155",
   "metadata": {
    "scrolled": true
   },
   "outputs": [
    {
     "name": "stdout",
     "output_type": "stream",
     "text": [
      "+--------+-----------+------------+-------------------+-------+\n",
      "|order_id|customer_id|order_amount|           order_ts|hour_ts|\n",
      "+--------+-----------+------------+-------------------+-------+\n",
      "|       1|        101|        50.0|2023-08-16 10:15:00|     10|\n",
      "|      11|        111|       200.0|2023-08-16 10:30:00|     10|\n",
      "|       2|        102|        75.0|2023-08-16 11:30:00|     11|\n",
      "|      12|        112|        40.0|2023-08-16 11:45:00|     11|\n",
      "|       3|        103|       100.0|2023-08-16 12:45:00|     12|\n",
      "|      13|        113|        60.0|2023-08-16 12:00:00|     12|\n",
      "|       4|        104|        25.0|2023-08-16 13:15:00|     13|\n",
      "|      14|        114|       175.0|2023-08-16 13:15:00|     13|\n",
      "|       5|        105|       150.0|2023-08-16 14:30:00|     14|\n",
      "|      15|        115|        90.0|2023-08-16 14:30:00|     14|\n",
      "|       6|        106|       200.0|2023-08-16 15:45:00|     15|\n",
      "|      16|        116|       300.0|2023-08-16 15:45:00|     15|\n",
      "|       7|        107|        70.0|2023-08-16 16:00:00|     16|\n",
      "|      17|        117|        50.0|2023-08-16 16:00:00|     16|\n",
      "|       8|        108|        80.0|2023-08-16 17:15:00|     17|\n",
      "|      18|        118|       225.0|2023-08-16 17:15:00|     17|\n",
      "|       9|        109|       120.0|2023-08-16 18:30:00|     18|\n",
      "|      19|        119|        30.0|2023-08-16 18:30:00|     18|\n",
      "|      10|        110|        90.0|2023-08-16 19:45:00|     19|\n",
      "|      20|        120|       150.0|2023-08-16 19:45:00|     19|\n",
      "+--------+-----------+------------+-------------------+-------+\n",
      "\n"
     ]
    }
   ],
   "source": [
    "spark.sql(\"select * from iceberg.db.tab1 TIMESTAMP AS OF '2023-08-16 17:01:00'\").show()"
   ]
  },
  {
   "cell_type": "code",
   "execution_count": 61,
   "id": "bcedb07a",
   "metadata": {},
   "outputs": [
    {
     "name": "stdout",
     "output_type": "stream",
     "text": [
      "+--------+-----------+------------+-------------------+-------+\n",
      "|order_id|customer_id|order_amount|           order_ts|hour_ts|\n",
      "+--------+-----------+------------+-------------------+-------+\n",
      "|       3|        103|       100.0|2023-08-16 12:45:00|     12|\n",
      "|      13|        113|        60.0|2023-08-16 12:00:00|     12|\n",
      "|       1|        101|       150.9|2023-08-16 10:15:00|     10|\n",
      "|      11|        111|       200.0|2023-08-16 10:30:00|     10|\n",
      "|      21|        101|        50.0|2023-08-16 10:15:00|     10|\n",
      "|      31|        111|       200.0|2023-08-16 10:30:00|     10|\n",
      "|       5|        105|       150.0|2023-08-16 14:30:00|     14|\n",
      "|      15|        115|        90.0|2023-08-16 14:30:00|     14|\n",
      "|       7|        107|        70.0|2023-08-16 16:00:00|     16|\n",
      "|      17|        117|        50.0|2023-08-16 16:00:00|     16|\n",
      "|       2|        102|        75.5|2023-08-16 11:30:00|     11|\n",
      "|      12|        112|        40.0|2023-08-16 11:45:00|     11|\n",
      "|      32|        112|        40.0|2023-08-16 11:45:00|     11|\n",
      "|      23|        113|        60.0|2023-08-16 12:00:00|     12|\n",
      "|       4|        104|        25.4|2023-08-16 13:15:00|     13|\n",
      "|      14|        114|       175.0|2023-08-16 13:15:00|     13|\n",
      "|      35|        115|        90.0|2023-08-16 14:30:00|     14|\n",
      "|       6|        106|       200.8|2023-08-16 15:45:00|     15|\n",
      "|      16|        116|       300.0|2023-08-16 15:45:00|     15|\n",
      "|      36|        116|       300.0|2023-08-16 15:45:00|     15|\n",
      "+--------+-----------+------------+-------------------+-------+\n",
      "only showing top 20 rows\n",
      "\n"
     ]
    }
   ],
   "source": [
    "spark.sql(\"select * from iceberg.db.tab1 TIMESTAMP AS OF '2023-08-16 17:02:00'\").show()"
   ]
  },
  {
   "cell_type": "code",
   "execution_count": null,
   "id": "3b6debc5",
   "metadata": {},
   "outputs": [],
   "source": []
  }
 ],
 "metadata": {
  "kernelspec": {
   "display_name": "Python 3 (ipykernel)",
   "language": "python",
   "name": "python3"
  },
  "language_info": {
   "codemirror_mode": {
    "name": "ipython",
    "version": 3
   },
   "file_extension": ".py",
   "mimetype": "text/x-python",
   "name": "python",
   "nbconvert_exporter": "python",
   "pygments_lexer": "ipython3",
   "version": "3.9.16"
  }
 },
 "nbformat": 4,
 "nbformat_minor": 5
}
