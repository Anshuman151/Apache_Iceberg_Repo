{
 "cells": [
  {
   "cell_type": "code",
   "execution_count": null,
   "id": "4ca7d851",
   "metadata": {},
   "outputs": [],
   "source": [
    "import os\n",
    "\n",
    "## import pyspark\n",
    "import pyspark\n",
    "from pyspark.sql import SparkSession"
   ]
  },
  {
   "cell_type": "code",
   "execution_count": null,
   "id": "05eaa4e5",
   "metadata": {},
   "outputs": [],
   "source": [
    "conf = (\n",
    "    pyspark.SparkConf()\n",
    "        .setAppName('app_name')\n",
    "  \t\t#packages\n",
    "        .set('spark.jars.packages', 'org.apache.iceberg:iceberg-spark-runtime-3.4_2.12:1.3.1,software.amazon.awssdk:bundle:2.17.178,software.amazon.awssdk:url-connection-client:2.17.178')\n",
    "  \t\t#SQL Extensions\n",
    "        .set('spark.sql.extensions', 'org.apache.iceberg.spark.extensions.IcebergSparkSessionExtensions')\n",
    "  \t\t#Configuring Catalog\n",
    "        .set('spark.sql.catalog.spark_catalog','org.apache.iceberg.spark.SparkSessionCatalog')\n",
    "        .set('spark.sql.catalog.spark_catalog.type','hive')\n",
    "        .set('spark.sql.catalog.iceberg', 'org.apache.iceberg.spark.SparkCatalog')\n",
    "        .set('spark.sql.catalog.iceberg.type', 'hadoop')\n",
    "        .set('spark.sql.catalog.iceberg.warehouse', 'iceberg-warehouse')\n",
    ")"
   ]
  },
  {
   "cell_type": "code",
   "execution_count": null,
   "id": "fc5d901a",
   "metadata": {},
   "outputs": [],
   "source": [
    "## Start Spark Session\n",
    "spark = SparkSession.builder.config(conf=conf).getOrCreate()\n",
    "print(\"Spark Running\")"
   ]
  },
  {
   "cell_type": "markdown",
   "id": "37dd23ae",
   "metadata": {},
   "source": [
    "# Copy On Write"
   ]
  },
  {
   "cell_type": "code",
   "execution_count": null,
   "id": "ee4a6c06",
   "metadata": {},
   "outputs": [],
   "source": [
    "spark.sql(''' CREATE TABLE iceberg.db.students (\n",
    "    id int,\n",
    "    first_name string,\n",
    "    last_name string,\n",
    "    major string,\n",
    "    class_year int\n",
    ") USING iceberg \n",
    " TBLPROPERTIES (\n",
    "    'write.delete.mode'='copy-on-write',\n",
    "    'write.update.mode'='copy-on-write',\n",
    "    'write.merge.mode'='copy-on-write'\n",
    ")\n",
    "PARTITIONED BY (class_year) ;''')"
   ]
  },
  {
   "cell_type": "code",
   "execution_count": null,
   "id": "042ec5aa",
   "metadata": {},
   "outputs": [],
   "source": [
    "spark.sql('''\n",
    "INSERT INTO iceberg.db.students (id, first_name, last_name, major, class_year)\n",
    "VALUES\n",
    "(1, 'John', 'Doe', 'Computer Science', 2023),\n",
    "(2, 'Jane', 'Doe', 'Business', 2019),\n",
    "(3, 'Peter', 'Smith', 'Engineering', 2021),\n",
    "(4, 'Susan', 'Williams', 'Nursing', 2023),\n",
    "(5, 'David', 'Johnson', 'Law', 2020),\n",
    "(6, 'Elizabeth', 'Brown', 'Art', 2021),\n",
    "(7, 'Michael', 'Green', 'History', 2019),\n",
    "(8, 'Sarah', 'White', 'English', 2020),\n",
    "(9, 'William', 'Black', 'Mathematics', 2021),\n",
    "(10, 'Mary', 'Brown', 'Physics', 2022),\n",
    "(11, 'Thomas', 'Green', 'Chemistry', 2022),\n",
    "(12, 'Jennifer', 'White', 'Biology', 2020),\n",
    "(13, 'Charles', 'Black', 'Geology', 2020),\n",
    "(14, 'Lisa', 'Brown', 'Astronomy', 2019),\n",
    "(15, 'Henry', 'Green', 'Meteorology', 2020),\n",
    "(16, 'Nancy', 'White', 'Economics', 2022),\n",
    "(17, 'Daniel', 'Black', 'Political Science', 2022),\n",
    "(18, 'Emily', 'Brown', 'Philosophy', 2021),\n",
    "(19, 'Matthew', 'Green', 'Psychology', 2019),\n",
    "(20, 'Jessica', 'White', 'Sociology', 2021); ''')"
   ]
  },
  {
   "cell_type": "code",
   "execution_count": null,
   "id": "64111f91",
   "metadata": {},
   "outputs": [],
   "source": [
    "#Reading \n",
    "spark.sql(\"select * from iceberg.db.students\").show()"
   ]
  },
  {
   "cell_type": "code",
   "execution_count": null,
   "id": "800c7b84",
   "metadata": {},
   "outputs": [],
   "source": [
    "#Updating\n",
    "spark.sql(\"update iceberg.db.students set major = 'zoology' where id = 4;\")"
   ]
  },
  {
   "cell_type": "code",
   "execution_count": null,
   "id": "e90b4e90",
   "metadata": {},
   "outputs": [],
   "source": [
    "spark.sql(\"select * from iceberg.db.students\").show()"
   ]
  },
  {
   "cell_type": "code",
   "execution_count": null,
   "id": "0d281554",
   "metadata": {},
   "outputs": [],
   "source": [
    "#deleting records\n",
    "spark.sql(\"delete from iceberg.db.students where class_year < 2020;\")"
   ]
  },
  {
   "cell_type": "code",
   "execution_count": null,
   "id": "55d0a80d",
   "metadata": {
    "scrolled": true
   },
   "outputs": [],
   "source": [
    "spark.sql(\"select * from iceberg.db.students\").show()"
   ]
  },
  {
   "cell_type": "code",
   "execution_count": null,
   "id": "99e81775",
   "metadata": {},
   "outputs": [],
   "source": [
    "#Creating a new table used to merge records\n",
    "spark.sql(''' CREATE TABLE iceberg.db.new_table(\n",
    "    id int,\n",
    "    first_name string,\n",
    "    last_name string,\n",
    "    major string,\n",
    "    class_year int\n",
    ") USING iceberg \n",
    "''')"
   ]
  },
  {
   "cell_type": "code",
   "execution_count": null,
   "id": "6230460c",
   "metadata": {},
   "outputs": [],
   "source": [
    "spark.sql('''\n",
    "INSERT INTO iceberg.db.new_table(id, first_name, last_name, major, class_year)\n",
    "VALUES\n",
    "(1, 'James', 'smith', 'Commerce', 2023),\n",
    "(2, 'Jane', 'Foster', 'Astrology', 2018),\n",
    "(20, 'Peter', 'Parker', 'Aerospace', 2019); ''')"
   ]
  },
  {
   "cell_type": "code",
   "execution_count": null,
   "id": "4b3aeca5",
   "metadata": {},
   "outputs": [],
   "source": [
    "#merging records from new_table into students"
   ]
  },
  {
   "cell_type": "code",
   "execution_count": null,
   "id": "78ff0899",
   "metadata": {},
   "outputs": [],
   "source": [
    "spark.sql('''Merge into iceberg.db.students\n",
    "using (select * from iceberg.db.new_table) nt \n",
    "on iceberg.db.students.id = nt.id\n",
    "when matched then update set \n",
    "iceberg.db.students.id = nt.id,\n",
    "iceberg.db.students.first_name = nt.first_name,\n",
    "iceberg.db.students.last_name = nt.last_name,\n",
    "iceberg.db.students.major = nt.major,\n",
    "iceberg.db.students.class_year = nt.class_year\n",
    "when not matched then insert *;\n",
    "''')"
   ]
  },
  {
   "cell_type": "code",
   "execution_count": null,
   "id": "f406c8d1",
   "metadata": {},
   "outputs": [],
   "source": [
    "spark.sql(\"select * from iceberg.db.students\").show()"
   ]
  },
  {
   "cell_type": "code",
   "execution_count": null,
   "id": "8b23b7a8",
   "metadata": {},
   "outputs": [],
   "source": [
    "#inspecting table history\n",
    "df=spark.sql(\"SELECT * FROM iceberg.db.students.history\")\n",
    "df.show()\n",
    "df.write.save(\"/Users/anshumanr/Documents/Iceberg/Apache_iceberg/iceberg-warehouse/db/students/history\",header=True)"
   ]
  },
  {
   "cell_type": "code",
   "execution_count": null,
   "id": "5e83f9f6",
   "metadata": {},
   "outputs": [],
   "source": [
    "#inspecting table history\n",
    "df=spark.sql(\"SELECT * FROM iceberg.db.students.snapshots\")\n",
    "df.show()\n",
    "df.write.save(\"/Users/anshumanr/Documents/Iceberg/Apache_iceberg/iceberg-warehouse/db/students/snapshots\",header=True)"
   ]
  },
  {
   "cell_type": "markdown",
   "id": "78a7f327",
   "metadata": {},
   "source": [
    "# Merge On Read"
   ]
  },
  {
   "cell_type": "code",
   "execution_count": null,
   "id": "6c7fa1a4",
   "metadata": {},
   "outputs": [],
   "source": [
    "spark.sql(''' CREATE TABLE iceberg.db.students2 (\n",
    "    id int,\n",
    "    first_name string,\n",
    "    last_name string,\n",
    "    major string,\n",
    "    class_year int\n",
    ") USING iceberg \n",
    " TBLPROPERTIES (\n",
    "    'write.delete.mode'='merge-on-read',\n",
    "    'write.update.mode'='merge-on-read',\n",
    "    'write.merge.mode'='merge-on-read'\n",
    ")\n",
    "PARTITIONED BY (class_year) ;''')"
   ]
  },
  {
   "cell_type": "code",
   "execution_count": null,
   "id": "4225bd69",
   "metadata": {},
   "outputs": [],
   "source": [
    "spark.sql('''\n",
    "INSERT INTO iceberg.db.students2 (id, first_name, last_name, major, class_year)\n",
    "VALUES\n",
    "(1, 'John', 'Doe', 'Computer Science', 2023),\n",
    "(2, 'Jane', 'Doe', 'Business', 2019),\n",
    "(3, 'Peter', 'Smith', 'Engineering', 2021),\n",
    "(4, 'Susan', 'Williams', 'Nursing', 2023),\n",
    "(5, 'David', 'Johnson', 'Law', 2020),\n",
    "(6, 'Elizabeth', 'Brown', 'Art', 2021),\n",
    "(7, 'Michael', 'Green', 'History', 2019),\n",
    "(8, 'Sarah', 'White', 'English', 2020),\n",
    "(9, 'William', 'Black', 'Mathematics', 2021),\n",
    "(10, 'Mary', 'Brown', 'Physics', 2022),\n",
    "(11, 'Thomas', 'Green', 'Chemistry', 2022),\n",
    "(12, 'Jennifer', 'White', 'Biology', 2020),\n",
    "(13, 'Charles', 'Black', 'Geology', 2020),\n",
    "(14, 'Lisa', 'Brown', 'Astronomy', 2019),\n",
    "(15, 'Henry', 'Green', 'Meteorology', 2020),\n",
    "(16, 'Nancy', 'White', 'Economics', 2022),\n",
    "(17, 'Daniel', 'Black', 'Political Science', 2022),\n",
    "(18, 'Emily', 'Brown', 'Philosophy', 2021),\n",
    "(19, 'Matthew', 'Green', 'Psychology', 2019),\n",
    "(20, 'Jessica', 'White', 'Sociology', 2021); ''')"
   ]
  },
  {
   "cell_type": "code",
   "execution_count": null,
   "id": "f24a7572",
   "metadata": {},
   "outputs": [],
   "source": []
  },
  {
   "cell_type": "code",
   "execution_count": null,
   "id": "24ad6b51",
   "metadata": {},
   "outputs": [],
   "source": []
  },
  {
   "cell_type": "code",
   "execution_count": null,
   "id": "bb8c6e6b",
   "metadata": {},
   "outputs": [],
   "source": []
  },
  {
   "cell_type": "code",
   "execution_count": null,
   "id": "897a157a",
   "metadata": {},
   "outputs": [],
   "source": []
  }
 ],
 "metadata": {
  "kernelspec": {
   "display_name": "Python 3 (ipykernel)",
   "language": "python",
   "name": "python3"
  },
  "language_info": {
   "codemirror_mode": {
    "name": "ipython",
    "version": 3
   },
   "file_extension": ".py",
   "mimetype": "text/x-python",
   "name": "python",
   "nbconvert_exporter": "python",
   "pygments_lexer": "ipython3",
   "version": "3.9.16"
  }
 },
 "nbformat": 4,
 "nbformat_minor": 5
}
